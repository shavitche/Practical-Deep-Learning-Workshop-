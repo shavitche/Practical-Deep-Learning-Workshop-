{
 "cells": [
  {
   "cell_type": "code",
   "execution_count": 1,
   "metadata": {},
   "outputs": [
    {
     "name": "stderr",
     "output_type": "stream",
     "text": [
      "Using TensorFlow backend.\n"
     ]
    }
   ],
   "source": [
    "import pandas as pd\n",
    "from sklearn import model_selection, preprocessing, metrics\n",
    "from sklearn.feature_extraction.text import CountVectorizer\n",
    "\n",
    "from scipy.spatial.distance import cosine\n",
    "from keras.layers import *\n",
    "from keras.regularizers import l2\n",
    "from keras.models import *\n",
    "from keras.optimizers import Adam\n",
    "from keras.callbacks import EarlyStopping\n",
    "from keras.callbacks import ModelCheckpoint, EarlyStopping\n",
    "from keras.optimizers import Adadelta\n",
    "from keras.preprocessing.text import Tokenizer\n",
    "from keras.preprocessing.sequence import pad_sequences\n",
    "from sklearn.metrics import mean_squared_error, mean_absolute_error\n",
    "from sklearn.metrics import mean_absolute_error as MAE\n",
    "from sklearn.metrics import mean_squared_error as mse\n",
    "from sklearn.ensemble import RandomForestRegressor\n",
    "import lightgbm as lgb\n",
    "\n",
    "from math import sqrt\n",
    "import os\n",
    "from keras.callbacks import ModelCheckpoint\n",
    "\n",
    "import numpy as np\n",
    "import matplotlib.pyplot as plt\n",
    "%matplotlib inline\n",
    "from operator import itemgetter\n",
    "from collections import defaultdict\n",
    "import seaborn as sns\n",
    "from functools import reduce\n",
    "import time"
   ]
  },
  {
   "cell_type": "code",
   "execution_count": 2,
   "metadata": {},
   "outputs": [],
   "source": [
    "path = './procced/'\n",
    "train_df = pd.read_csv(path+'train_ready.csv', encoding= 'ISO-8859-1')\n",
    "test_df = pd.read_csv(path + 'test_ready.csv', encoding = 'ISO-8859-1')"
   ]
  },
  {
   "cell_type": "code",
   "execution_count": 3,
   "metadata": {},
   "outputs": [
    {
     "data": {
      "text/html": [
       "<div>\n",
       "<style scoped>\n",
       "    .dataframe tbody tr th:only-of-type {\n",
       "        vertical-align: middle;\n",
       "    }\n",
       "\n",
       "    .dataframe tbody tr th {\n",
       "        vertical-align: top;\n",
       "    }\n",
       "\n",
       "    .dataframe thead th {\n",
       "        text-align: right;\n",
       "    }\n",
       "</style>\n",
       "<table border=\"1\" class=\"dataframe\">\n",
       "  <thead>\n",
       "    <tr style=\"text-align: right;\">\n",
       "      <th></th>\n",
       "      <th>id</th>\n",
       "      <th>product_uid</th>\n",
       "      <th>search_term</th>\n",
       "      <th>relevance</th>\n",
       "      <th>product_description</th>\n",
       "      <th>Brand_name</th>\n",
       "      <th>product_title_identity</th>\n",
       "      <th>product_desc_identity</th>\n",
       "      <th>product_brand_identity</th>\n",
       "      <th>product_title_length</th>\n",
       "      <th>product_desc_length</th>\n",
       "    </tr>\n",
       "  </thead>\n",
       "  <tbody>\n",
       "    <tr>\n",
       "      <th>0</th>\n",
       "      <td>2</td>\n",
       "      <td>100001</td>\n",
       "      <td>angl bracket</td>\n",
       "      <td>3.00</td>\n",
       "      <td>simpson strong tie 12 gaug angl angl make join...</td>\n",
       "      <td>simpson strong tie</td>\n",
       "      <td>1.0</td>\n",
       "      <td>1.0</td>\n",
       "      <td>0.0</td>\n",
       "      <td>31.0</td>\n",
       "      <td>596.0</td>\n",
       "    </tr>\n",
       "    <tr>\n",
       "      <th>1</th>\n",
       "      <td>3</td>\n",
       "      <td>100001</td>\n",
       "      <td>l bracket</td>\n",
       "      <td>2.50</td>\n",
       "      <td>simpson strong tie 12 gaug angl angl make join...</td>\n",
       "      <td>simpson strong tie</td>\n",
       "      <td>0.0</td>\n",
       "      <td>0.0</td>\n",
       "      <td>0.0</td>\n",
       "      <td>31.0</td>\n",
       "      <td>596.0</td>\n",
       "    </tr>\n",
       "    <tr>\n",
       "      <th>2</th>\n",
       "      <td>9</td>\n",
       "      <td>100002</td>\n",
       "      <td>deck</td>\n",
       "      <td>3.00</td>\n",
       "      <td>behr premium textur deckov 1 gal. #sc 141 tugb...</td>\n",
       "      <td>behr premium textur deckov</td>\n",
       "      <td>0.0</td>\n",
       "      <td>1.0</td>\n",
       "      <td>0.0</td>\n",
       "      <td>67.0</td>\n",
       "      <td>783.0</td>\n",
       "    </tr>\n",
       "    <tr>\n",
       "      <th>3</th>\n",
       "      <td>16</td>\n",
       "      <td>100005</td>\n",
       "      <td>rain shower head</td>\n",
       "      <td>2.33</td>\n",
       "      <td>delta vero 1 handl shower faucet trim kit chro...</td>\n",
       "      <td>delta</td>\n",
       "      <td>1.0</td>\n",
       "      <td>1.0</td>\n",
       "      <td>0.0</td>\n",
       "      <td>64.0</td>\n",
       "      <td>487.0</td>\n",
       "    </tr>\n",
       "    <tr>\n",
       "      <th>4</th>\n",
       "      <td>17</td>\n",
       "      <td>100005</td>\n",
       "      <td>shower faucet</td>\n",
       "      <td>2.67</td>\n",
       "      <td>delta vero 1 handl shower faucet trim kit chro...</td>\n",
       "      <td>delta</td>\n",
       "      <td>2.0</td>\n",
       "      <td>2.0</td>\n",
       "      <td>0.0</td>\n",
       "      <td>64.0</td>\n",
       "      <td>487.0</td>\n",
       "    </tr>\n",
       "  </tbody>\n",
       "</table>\n",
       "</div>"
      ],
      "text/plain": [
       "   id  product_uid       search_term  relevance  \\\n",
       "0   2       100001      angl bracket       3.00   \n",
       "1   3       100001         l bracket       2.50   \n",
       "2   9       100002              deck       3.00   \n",
       "3  16       100005  rain shower head       2.33   \n",
       "4  17       100005     shower faucet       2.67   \n",
       "\n",
       "                                 product_description  \\\n",
       "0  simpson strong tie 12 gaug angl angl make join...   \n",
       "1  simpson strong tie 12 gaug angl angl make join...   \n",
       "2  behr premium textur deckov 1 gal. #sc 141 tugb...   \n",
       "3  delta vero 1 handl shower faucet trim kit chro...   \n",
       "4  delta vero 1 handl shower faucet trim kit chro...   \n",
       "\n",
       "                   Brand_name  product_title_identity  product_desc_identity  \\\n",
       "0          simpson strong tie                     1.0                    1.0   \n",
       "1          simpson strong tie                     0.0                    0.0   \n",
       "2  behr premium textur deckov                     0.0                    1.0   \n",
       "3                       delta                     1.0                    1.0   \n",
       "4                       delta                     2.0                    2.0   \n",
       "\n",
       "   product_brand_identity  product_title_length  product_desc_length  \n",
       "0                     0.0                  31.0                596.0  \n",
       "1                     0.0                  31.0                596.0  \n",
       "2                     0.0                  67.0                783.0  \n",
       "3                     0.0                  64.0                487.0  \n",
       "4                     0.0                  64.0                487.0  "
      ]
     },
     "execution_count": 3,
     "metadata": {},
     "output_type": "execute_result"
    }
   ],
   "source": [
    "train_df.head()"
   ]
  },
  {
   "cell_type": "code",
   "execution_count": 4,
   "metadata": {},
   "outputs": [
    {
     "data": {
      "text/html": [
       "<div>\n",
       "<style scoped>\n",
       "    .dataframe tbody tr th:only-of-type {\n",
       "        vertical-align: middle;\n",
       "    }\n",
       "\n",
       "    .dataframe tbody tr th {\n",
       "        vertical-align: top;\n",
       "    }\n",
       "\n",
       "    .dataframe thead th {\n",
       "        text-align: right;\n",
       "    }\n",
       "</style>\n",
       "<table border=\"1\" class=\"dataframe\">\n",
       "  <thead>\n",
       "    <tr style=\"text-align: right;\">\n",
       "      <th></th>\n",
       "      <th>id</th>\n",
       "      <th>product_uid</th>\n",
       "      <th>search_term</th>\n",
       "      <th>product_description</th>\n",
       "      <th>relevance</th>\n",
       "      <th>Usage</th>\n",
       "      <th>Brand_name</th>\n",
       "      <th>product_title_identity</th>\n",
       "      <th>product_desc_identity</th>\n",
       "      <th>product_brand_identity</th>\n",
       "      <th>product_title_length</th>\n",
       "      <th>product_desc_length</th>\n",
       "    </tr>\n",
       "  </thead>\n",
       "  <tbody>\n",
       "    <tr>\n",
       "      <th>0</th>\n",
       "      <td>4</td>\n",
       "      <td>100001</td>\n",
       "      <td>metal l bracket</td>\n",
       "      <td>simpson strong tie 12 gaug angl angl make join...</td>\n",
       "      <td>2.33</td>\n",
       "      <td>Public</td>\n",
       "      <td>simpson strong tie</td>\n",
       "      <td>0.0</td>\n",
       "      <td>0.0</td>\n",
       "      <td>0.0</td>\n",
       "      <td>31.0</td>\n",
       "      <td>596.0</td>\n",
       "    </tr>\n",
       "    <tr>\n",
       "      <th>1</th>\n",
       "      <td>5</td>\n",
       "      <td>100001</td>\n",
       "      <td>simpson sku abl</td>\n",
       "      <td>simpson strong tie 12 gaug angl angl make join...</td>\n",
       "      <td>2.33</td>\n",
       "      <td>Private</td>\n",
       "      <td>simpson strong tie</td>\n",
       "      <td>1.0</td>\n",
       "      <td>1.0</td>\n",
       "      <td>1.0</td>\n",
       "      <td>31.0</td>\n",
       "      <td>596.0</td>\n",
       "    </tr>\n",
       "    <tr>\n",
       "      <th>2</th>\n",
       "      <td>6</td>\n",
       "      <td>100001</td>\n",
       "      <td>simpson strong tie</td>\n",
       "      <td>simpson strong tie 12 gaug angl angl make join...</td>\n",
       "      <td>2.67</td>\n",
       "      <td>Private</td>\n",
       "      <td>simpson strong tie</td>\n",
       "      <td>3.0</td>\n",
       "      <td>3.0</td>\n",
       "      <td>3.0</td>\n",
       "      <td>31.0</td>\n",
       "      <td>596.0</td>\n",
       "    </tr>\n",
       "    <tr>\n",
       "      <th>3</th>\n",
       "      <td>7</td>\n",
       "      <td>100001</td>\n",
       "      <td>simpson strong tie hcc668</td>\n",
       "      <td>simpson strong tie 12 gaug angl angl make join...</td>\n",
       "      <td>2.00</td>\n",
       "      <td>Public</td>\n",
       "      <td>simpson strong tie</td>\n",
       "      <td>3.0</td>\n",
       "      <td>3.0</td>\n",
       "      <td>3.0</td>\n",
       "      <td>31.0</td>\n",
       "      <td>596.0</td>\n",
       "    </tr>\n",
       "    <tr>\n",
       "      <th>4</th>\n",
       "      <td>10</td>\n",
       "      <td>100003</td>\n",
       "      <td>bath shower kit</td>\n",
       "      <td>sterl ensembl 33 1/4in. x 60in. x 75 1/4in. ba...</td>\n",
       "      <td>2.67</td>\n",
       "      <td>Private</td>\n",
       "      <td>sterl</td>\n",
       "      <td>3.0</td>\n",
       "      <td>1.0</td>\n",
       "      <td>0.0</td>\n",
       "      <td>82.0</td>\n",
       "      <td>513.0</td>\n",
       "    </tr>\n",
       "  </tbody>\n",
       "</table>\n",
       "</div>"
      ],
      "text/plain": [
       "   id  product_uid                search_term  \\\n",
       "0   4       100001            metal l bracket   \n",
       "1   5       100001            simpson sku abl   \n",
       "2   6       100001         simpson strong tie   \n",
       "3   7       100001  simpson strong tie hcc668   \n",
       "4  10       100003            bath shower kit   \n",
       "\n",
       "                                 product_description  relevance    Usage  \\\n",
       "0  simpson strong tie 12 gaug angl angl make join...       2.33   Public   \n",
       "1  simpson strong tie 12 gaug angl angl make join...       2.33  Private   \n",
       "2  simpson strong tie 12 gaug angl angl make join...       2.67  Private   \n",
       "3  simpson strong tie 12 gaug angl angl make join...       2.00   Public   \n",
       "4  sterl ensembl 33 1/4in. x 60in. x 75 1/4in. ba...       2.67  Private   \n",
       "\n",
       "           Brand_name  product_title_identity  product_desc_identity  \\\n",
       "0  simpson strong tie                     0.0                    0.0   \n",
       "1  simpson strong tie                     1.0                    1.0   \n",
       "2  simpson strong tie                     3.0                    3.0   \n",
       "3  simpson strong tie                     3.0                    3.0   \n",
       "4               sterl                     3.0                    1.0   \n",
       "\n",
       "   product_brand_identity  product_title_length  product_desc_length  \n",
       "0                     0.0                  31.0                596.0  \n",
       "1                     1.0                  31.0                596.0  \n",
       "2                     3.0                  31.0                596.0  \n",
       "3                     3.0                  31.0                596.0  \n",
       "4                     0.0                  82.0                513.0  "
      ]
     },
     "execution_count": 4,
     "metadata": {},
     "output_type": "execute_result"
    }
   ],
   "source": [
    "test_df.head()"
   ]
  },
  {
   "cell_type": "markdown",
   "metadata": {},
   "source": [
    "## Charecter level preprocessing"
   ]
  },
  {
   "cell_type": "markdown",
   "metadata": {},
   "source": [
    "Taking the search term and the product description and converting them to a list of characters"
   ]
  },
  {
   "cell_type": "code",
   "execution_count": 5,
   "metadata": {},
   "outputs": [],
   "source": [
    "col_to_use = ['search_term','product_description']\n",
    "target = 'relevance'\n",
    "\n",
    "Y_train = train_df[target]\n",
    "raw_X_train = train_df[col_to_use]\n",
    "\n",
    "raw_X_test = test_df[col_to_use]\n",
    "y_test = test_df[target]"
   ]
  },
  {
   "cell_type": "code",
   "execution_count": 6,
   "metadata": {},
   "outputs": [],
   "source": [
    "def to_list(x):\n",
    "    if type(x) == str:\n",
    "        return list(x.lower())\n",
    "    else:\n",
    "        #print(x)\n",
    "        return([])"
   ]
  },
  {
   "cell_type": "code",
   "execution_count": 7,
   "metadata": {},
   "outputs": [],
   "source": [
    "raw_X_train['search_term'].map(to_list)\n",
    "x = 2"
   ]
  },
  {
   "cell_type": "code",
   "execution_count": 8,
   "metadata": {},
   "outputs": [
    {
     "name": "stderr",
     "output_type": "stream",
     "text": [
      "C:\\Users\\vfqk84\\AppData\\Local\\Continuum\\anaconda3\\envs\\keras\\lib\\site-packages\\ipykernel\\__main__.py:1: SettingWithCopyWarning: \n",
      "A value is trying to be set on a copy of a slice from a DataFrame.\n",
      "Try using .loc[row_indexer,col_indexer] = value instead\n",
      "\n",
      "See the caveats in the documentation: http://pandas.pydata.org/pandas-docs/stable/indexing.html#indexing-view-versus-copy\n",
      "  if __name__ == '__main__':\n",
      "C:\\Users\\vfqk84\\AppData\\Local\\Continuum\\anaconda3\\envs\\keras\\lib\\site-packages\\ipykernel\\__main__.py:2: SettingWithCopyWarning: \n",
      "A value is trying to be set on a copy of a slice from a DataFrame.\n",
      "Try using .loc[row_indexer,col_indexer] = value instead\n",
      "\n",
      "See the caveats in the documentation: http://pandas.pydata.org/pandas-docs/stable/indexing.html#indexing-view-versus-copy\n",
      "  from ipykernel import kernelapp as app\n",
      "C:\\Users\\vfqk84\\AppData\\Local\\Continuum\\anaconda3\\envs\\keras\\lib\\site-packages\\ipykernel\\__main__.py:4: SettingWithCopyWarning: \n",
      "A value is trying to be set on a copy of a slice from a DataFrame.\n",
      "Try using .loc[row_indexer,col_indexer] = value instead\n",
      "\n",
      "See the caveats in the documentation: http://pandas.pydata.org/pandas-docs/stable/indexing.html#indexing-view-versus-copy\n",
      "C:\\Users\\vfqk84\\AppData\\Local\\Continuum\\anaconda3\\envs\\keras\\lib\\site-packages\\ipykernel\\__main__.py:5: SettingWithCopyWarning: \n",
      "A value is trying to be set on a copy of a slice from a DataFrame.\n",
      "Try using .loc[row_indexer,col_indexer] = value instead\n",
      "\n",
      "See the caveats in the documentation: http://pandas.pydata.org/pandas-docs/stable/indexing.html#indexing-view-versus-copy\n"
     ]
    },
    {
     "data": {
      "text/html": [
       "<div>\n",
       "<style scoped>\n",
       "    .dataframe tbody tr th:only-of-type {\n",
       "        vertical-align: middle;\n",
       "    }\n",
       "\n",
       "    .dataframe tbody tr th {\n",
       "        vertical-align: top;\n",
       "    }\n",
       "\n",
       "    .dataframe thead th {\n",
       "        text-align: right;\n",
       "    }\n",
       "</style>\n",
       "<table border=\"1\" class=\"dataframe\">\n",
       "  <thead>\n",
       "    <tr style=\"text-align: right;\">\n",
       "      <th></th>\n",
       "      <th>search_term</th>\n",
       "      <th>product_description</th>\n",
       "    </tr>\n",
       "  </thead>\n",
       "  <tbody>\n",
       "    <tr>\n",
       "      <th>0</th>\n",
       "      <td>[a, n, g, l,  , b, r, a, c, k, e, t]</td>\n",
       "      <td>[s, i, m, p, s, o, n,  , s, t, r, o, n, g,  , ...</td>\n",
       "    </tr>\n",
       "    <tr>\n",
       "      <th>1</th>\n",
       "      <td>[l,  , b, r, a, c, k, e, t]</td>\n",
       "      <td>[s, i, m, p, s, o, n,  , s, t, r, o, n, g,  , ...</td>\n",
       "    </tr>\n",
       "    <tr>\n",
       "      <th>2</th>\n",
       "      <td>[d, e, c, k]</td>\n",
       "      <td>[b, e, h, r,  , p, r, e, m, i, u, m,  , t, e, ...</td>\n",
       "    </tr>\n",
       "    <tr>\n",
       "      <th>3</th>\n",
       "      <td>[r, a, i, n,  , s, h, o, w, e, r,  , h, e, a, d]</td>\n",
       "      <td>[d, e, l, t, a,  , v, e, r, o,  , 1,  , h, a, ...</td>\n",
       "    </tr>\n",
       "    <tr>\n",
       "      <th>4</th>\n",
       "      <td>[s, h, o, w, e, r,  , f, a, u, c, e, t]</td>\n",
       "      <td>[d, e, l, t, a,  , v, e, r, o,  , 1,  , h, a, ...</td>\n",
       "    </tr>\n",
       "  </tbody>\n",
       "</table>\n",
       "</div>"
      ],
      "text/plain": [
       "                                        search_term  \\\n",
       "0              [a, n, g, l,  , b, r, a, c, k, e, t]   \n",
       "1                       [l,  , b, r, a, c, k, e, t]   \n",
       "2                                      [d, e, c, k]   \n",
       "3  [r, a, i, n,  , s, h, o, w, e, r,  , h, e, a, d]   \n",
       "4           [s, h, o, w, e, r,  , f, a, u, c, e, t]   \n",
       "\n",
       "                                 product_description  \n",
       "0  [s, i, m, p, s, o, n,  , s, t, r, o, n, g,  , ...  \n",
       "1  [s, i, m, p, s, o, n,  , s, t, r, o, n, g,  , ...  \n",
       "2  [b, e, h, r,  , p, r, e, m, i, u, m,  , t, e, ...  \n",
       "3  [d, e, l, t, a,  , v, e, r, o,  , 1,  , h, a, ...  \n",
       "4  [d, e, l, t, a,  , v, e, r, o,  , 1,  , h, a, ...  "
      ]
     },
     "execution_count": 8,
     "metadata": {},
     "output_type": "execute_result"
    }
   ],
   "source": [
    "raw_X_train['search_term'] = raw_X_train['search_term'].map(to_list)\n",
    "raw_X_train['product_description'] = raw_X_train['product_description'].map(to_list)\n",
    "\n",
    "raw_X_test['search_term'] = raw_X_test['search_term'].map(to_list)\n",
    "raw_X_test['product_description'] = raw_X_test['product_description'].map(to_list)\n",
    "\n",
    "raw_X_train.head()"
   ]
  },
  {
   "cell_type": "code",
   "execution_count": 9,
   "metadata": {},
   "outputs": [
    {
     "name": "stdout",
     "output_type": "stream",
     "text": [
      "number of disticnt chars in the train set: 68\n"
     ]
    }
   ],
   "source": [
    "all_distinct_chars = raw_X_train['search_term'].values.tolist() + raw_X_train['product_description'].values.tolist()\n",
    "all_distinct_chars = set(reduce(lambda acc,c: acc.union(set(c)),all_distinct_chars,set()))\n",
    "print('number of disticnt chars in the train set: {}'.format(len(all_distinct_chars)))"
   ]
  },
  {
   "cell_type": "code",
   "execution_count": 10,
   "metadata": {},
   "outputs": [],
   "source": [
    "def text_to_seq(tokenizer,df):\n",
    "    ret_df = dict()\n",
    "    ret_df['search_term'] = tokenizer.texts_to_sequences(df['search_term'].values)\n",
    "    ret_df['product_description'] = tokenizer.texts_to_sequences(df['product_description'].values)\n",
    "    return ret_df\n",
    "\n",
    "    "
   ]
  },
  {
   "cell_type": "code",
   "execution_count": 11,
   "metadata": {},
   "outputs": [],
   "source": [
    "tokenizer = Tokenizer(num_words=len(all_distinct_chars))\n",
    "tokenizer.fit_on_texts(list(all_distinct_chars))\n",
    "\n",
    "X_train = text_to_seq(tokenizer, raw_X_train)\n",
    "X_test = text_to_seq(tokenizer, raw_X_test)"
   ]
  },
  {
   "cell_type": "code",
   "execution_count": 12,
   "metadata": {},
   "outputs": [
    {
     "name": "stdout",
     "output_type": "stream",
     "text": [
      "search terms sequences length: 14\n",
      "product description sequences length: 586\n"
     ]
    }
   ],
   "source": [
    "search_terms_lens = int(np.array([len(term) for term in X_train['search_term']]).mean())\n",
    "produc_lens = int(np.array([len(p) for p in X_train['product_description']]).mean())\n",
    "\n",
    "print('search terms sequences length: {}'.format(search_terms_lens))\n",
    "print('product description sequences length: {}'.format(produc_lens))"
   ]
  },
  {
   "cell_type": "code",
   "execution_count": 13,
   "metadata": {},
   "outputs": [],
   "source": [
    "def pad_seq(data_df, df_name,search_terms_len,prod_desc_len):\n",
    "    data_df['search_term'] = pad_sequences(data_df['search_term'],maxlen=search_terms_len)\n",
    "    data_df['product_description'] = pad_sequences(data_df['product_description'],maxlen=prod_desc_len)\n",
    "    print('{}[\\'search_term\\'].shape: {}'.format(df_name, data_df['search_term'].shape))\n",
    "    print('{}[\\'product_description\\'].shape: {}\\n'.format(df_name, data_df['product_description'].shape))"
   ]
  },
  {
   "cell_type": "code",
   "execution_count": 14,
   "metadata": {},
   "outputs": [
    {
     "name": "stdout",
     "output_type": "stream",
     "text": [
      "X_train['search_term'].shape: (74067, 14)\n",
      "X_train['product_description'].shape: (74067, 586)\n",
      "\n",
      "X_test['search_term'].shape: (112067, 14)\n",
      "X_test['product_description'].shape: (112067, 586)\n",
      "\n"
     ]
    }
   ],
   "source": [
    "pad_seq(X_train,'X_train',search_terms_lens,int(produc_lens))\n",
    "pad_seq(X_test,'X_test',search_terms_lens,int(produc_lens))"
   ]
  },
  {
   "cell_type": "code",
   "execution_count": 15,
   "metadata": {},
   "outputs": [
    {
     "name": "stdout",
     "output_type": "stream",
     "text": [
      "X_train search_term shape: (74067, 14, 1)\n",
      "X_train product_description shape: (74067, 586, 1)\n",
      "\n",
      "X_test search_term shape: (112067, 14, 1)\n",
      "X_train product_description shape: (112067, 586, 1)\n"
     ]
    }
   ],
   "source": [
    "X_train['search_term'] = X_train['search_term'].reshape((X_train['search_term'].shape[0], X_train['search_term'].shape[1], 1))\n",
    "X_train['product_description'] = X_train['product_description'].reshape((X_train['product_description'].shape[0], X_train['product_description'].shape[1], 1))\n",
    "print('X_train search_term shape: {}'.format(X_train['search_term'].shape))\n",
    "print('X_train product_description shape: {}\\n'.format(X_train['product_description'].shape))\n",
    "\n",
    "X_test['search_term'] = X_test['search_term'].reshape((X_test['search_term'].shape[0], X_test['search_term'].shape[1], 1))\n",
    "X_test['product_description'] = X_test['product_description'].reshape((X_test['product_description'].shape[0], X_test['product_description'].shape[1], 1))\n",
    "print('X_test search_term shape: {}'.format(X_test['search_term'].shape))\n",
    "print('X_train product_description shape: {}'.format(X_test['product_description'].shape))"
   ]
  },
  {
   "cell_type": "code",
   "execution_count": 16,
   "metadata": {},
   "outputs": [],
   "source": [
    "#hyper params:\n",
    "lstm_n_hidden = 80\n",
    "gradient_clipping_norm = 1.25\n",
    "\n",
    "def exponent_neg_manhattan_distance(left, right):\n",
    "    ''' Helper function for the similarity estimate of the LSTMs outputs'''\n",
    "    return K.exp(-K.sum(K.abs(left-right), axis=1, keepdims=True))\n",
    "\n",
    "def norm_to_1_3(m):\n",
    "  return (m * 2) + 1 "
   ]
  },
  {
   "cell_type": "code",
   "execution_count": 17,
   "metadata": {},
   "outputs": [
    {
     "name": "stdout",
     "output_type": "stream",
     "text": [
      "Train: 48077, test: 25990\n"
     ]
    }
   ],
   "source": [
    "trainend = int(len(train_df)*0.8)\n",
    "counts = train_df.reset_index()[:trainend].groupby(['product_uid']).count()[['id']]\n",
    "\n",
    "counts = counts[counts['id'] > 1]\n",
    "counts = counts.add_suffix('_Count').reset_index()\n",
    "valid_product_uids = set(counts['product_uid'].values)\n",
    "\n",
    "inds = []\n",
    "\n",
    "allowed_uids = train_df.reset_index().loc[train_df.reset_index()['product_uid'].isin(valid_product_uids)]\n",
    "lastUid = 0\n",
    "\n",
    "for idx, mrow in allowed_uids.iterrows():\n",
    "    if lastUid == mrow['product_uid']:\n",
    "        continue\n",
    "\n",
    "    lastUid = mrow['product_uid']\n",
    "    inds.append(idx)\n",
    "\n",
    "test_inds = inds + list(train_df.reset_index()[trainend:].index.values)\n",
    "train_inds = list(train_df.reset_index().loc[~train_df.reset_index().index.isin(test_inds)].index.values)\n",
    "\n",
    "print(\"Train: \"+str(len(train_inds))+\", test: \"+str(len(test_inds)))"
   ]
  },
  {
   "cell_type": "markdown",
   "metadata": {},
   "source": [
    "### Siamese NN"
   ]
  },
  {
   "cell_type": "code",
   "execution_count": 18,
   "metadata": {},
   "outputs": [],
   "source": [
    "def rmse(actual,predicted):\n",
    "    return sqrt(mse(actual,predicted))\n",
    "def mae(actual,predicted):\n",
    "    return MAE(actual,predicted)\n",
    "\n",
    "def exponent_neg_manhattan_distance(left, right):\n",
    "    return K.exp(-K.sum(K.abs(left-right), axis=1, keepdims=True))  \n",
    "\n",
    "def root_mean_squared_error(y_true, y_pred):\n",
    "    return K.sqrt(K.mean(K.square(y_pred - y_true), axis=-1))"
   ]
  },
  {
   "cell_type": "code",
   "execution_count": 88,
   "metadata": {},
   "outputs": [],
   "source": [
    "def siamese():\n",
    "    term_input = Input(shape=(search_terms_lens, 1), name='term_input')\n",
    "    product_input = Input(shape=(produc_lens, 1), name='product_input')\n",
    "\n",
    "    shared_lstm = Sequential(name='shared_model')\n",
    "    shared_lstm.add(CuDNNLSTM(lstm_n_hidden))\n",
    "    #shared_lstm.add(LSTM(lstm_n_hidden))\n",
    "    shared_lstm.add(Dense(100, activation='relu'))\n",
    "    shared_lstm.add(Dense(128, activation='relu',name='feature_extractor'))\n",
    "\n",
    "    output = Lambda(function=lambda x: norm_to_1_3(exponent_neg_manhattan_distance(x[0], x[1])),\n",
    "                    output_shape=lambda x: (x[0][0], 1),\n",
    "                    name='prediction')([shared_lstm(term_input), shared_lstm(product_input)])\n",
    "\n",
    "    model = Model(inputs=[term_input, product_input], outputs=[output])\n",
    "    optimizer = Adadelta(clipnorm=gradient_clipping_norm)\n",
    "    model.compile(loss='mse', optimizer=optimizer, metrics=['mae',root_mean_squared_error])\n",
    "    return model"
   ]
  },
  {
   "cell_type": "code",
   "execution_count": 20,
   "metadata": {},
   "outputs": [],
   "source": [
    "_columns=['Model type','runtime','Train RMSE','Val-RMSE','Test-RMSE','Train MAE','Val-MAE','Test-MAE']\n",
    "results_table = pd.DataFrame(columns=_columns)"
   ]
  },
  {
   "cell_type": "code",
   "execution_count": 21,
   "metadata": {},
   "outputs": [],
   "source": [
    "\n",
    "\n",
    "def update_result_table(model_type,runtime,train_pred,actual_train,val_pred,actual_val,test_pred,actual_test):\n",
    "    global results_table\n",
    "    train_rmse = rmse(actual_train, train_pred)  \n",
    "    val_rmse = rmse(actual_val, val_pred)\n",
    "    test_rmse = rmse(actual_test, test_pred)\n",
    "    train_mae = mae(actual_train, train_pred) \n",
    "    val_mae = mae(actual_val, val_pred)\n",
    "    test_mae = mae(actual_test, test_pred)\n",
    "    print('train rmse: {},val rmse: {},test rmse: {},train mae: {},val mae: {}, test mae: {}'.format(train_rmse,val_rmse,test_rmse,train_mae,val_mae,test_mae))\n",
    "    results_table = results_table.append(pd.Series([model_type,runtime,train_rmse,val_rmse,test_rmse,train_mae,val_mae,test_mae], index = _columns),ignore_index=True)"
   ]
  },
  {
   "cell_type": "code",
   "execution_count": 89,
   "metadata": {},
   "outputs": [],
   "source": [
    "from keras.callbacks import *\n",
    "\n",
    "tests_path = './saved/reference'\n",
    "def set_callbacks(description='run2',patience=17,tb_base_logdir='./logs/',model_num = ''):\n",
    "    cp = ModelCheckpoint('./models/model' + model_num +'/weights.{epoch:02d}-{val_loss:.2f}.hdf5', monitor='val_loss', save_best_only=False)\n",
    "    es = EarlyStopping(patience=patience,monitor='val_loss')   \n",
    "    reduce_lr_loss = ReduceLROnPlateau(monitor='loss',factor=0.1, patience=5, verbose=1, epsilon=1e-3)\n",
    "    cb = [cp,es,reduce_lr_loss]\n",
    "    return cb"
   ]
  },
  {
   "cell_type": "code",
   "execution_count": 91,
   "metadata": {},
   "outputs": [
    {
     "name": "stdout",
     "output_type": "stream",
     "text": [
      "__________________________________________________________________________________________________\n",
      "Layer (type)                    Output Shape         Param #     Connected to                     \n",
      "==================================================================================================\n",
      "term_input (InputLayer)         (None, 14, 1)        0                                            \n",
      "__________________________________________________________________________________________________\n",
      "product_input (InputLayer)      (None, 586, 1)       0                                            \n",
      "__________________________________________________________________________________________________\n",
      "shared_model (Sequential)       (None, 128)          28628       term_input[0][0]                 \n",
      "                                                                 product_input[0][0]              \n",
      "__________________________________________________________________________________________________\n",
      "prediction (Lambda)             (None, 1)            0           shared_model[1][0]               \n",
      "                                                                 shared_model[2][0]               \n",
      "==================================================================================================\n",
      "Total params: 28,628\n",
      "Trainable params: 28,628\n",
      "Non-trainable params: 0\n",
      "__________________________________________________________________________________________________\n"
     ]
    }
   ],
   "source": [
    "model = siamese()\n",
    "model.summary()"
   ]
  },
  {
   "cell_type": "code",
   "execution_count": 92,
   "metadata": {},
   "outputs": [
    {
     "name": "stdout",
     "output_type": "stream",
     "text": [
      "Train on 48077 samples, validate on 25990 samples\n",
      "Epoch 1/50\n",
      "48077/48077 [==============================] - 12s 251us/step - loss: 0.5176 - mean_absolute_error: 0.5786 - root_mean_squared_error: 0.5786 - val_loss: 0.3319 - val_mean_absolute_error: 0.4659 - val_root_mean_squared_error: 0.4659\n",
      "Epoch 2/50\n",
      "48077/48077 [==============================] - 11s 238us/step - loss: 0.2989 - mean_absolute_error: 0.4517 - root_mean_squared_error: 0.4517 - val_loss: 0.3041 - val_mean_absolute_error: 0.4431 - val_root_mean_squared_error: 0.4431\n",
      "Epoch 3/50\n",
      "48077/48077 [==============================] - 11s 238us/step - loss: 0.2890 - mean_absolute_error: 0.4441 - root_mean_squared_error: 0.4441 - val_loss: 0.2932 - val_mean_absolute_error: 0.4353 - val_root_mean_squared_error: 0.4353\n",
      "Epoch 4/50\n",
      "48077/48077 [==============================] - 11s 237us/step - loss: 0.2857 - mean_absolute_error: 0.4414 - root_mean_squared_error: 0.4414 - val_loss: 0.2986 - val_mean_absolute_error: 0.4397 - val_root_mean_squared_error: 0.4397\n",
      "Epoch 5/50\n",
      "48077/48077 [==============================] - 11s 237us/step - loss: 0.2838 - mean_absolute_error: 0.4397 - root_mean_squared_error: 0.4397 - val_loss: 0.3159 - val_mean_absolute_error: 0.4499 - val_root_mean_squared_error: 0.4499\n",
      "Epoch 6/50\n",
      "48077/48077 [==============================] - 11s 237us/step - loss: 0.2821 - mean_absolute_error: 0.4379 - root_mean_squared_error: 0.4379 - val_loss: 0.2817 - val_mean_absolute_error: 0.4282 - val_root_mean_squared_error: 0.4282\n",
      "Epoch 7/50\n",
      "48077/48077 [==============================] - 11s 236us/step - loss: 0.2813 - mean_absolute_error: 0.4375 - root_mean_squared_error: 0.4375 - val_loss: 0.2855 - val_mean_absolute_error: 0.4288 - val_root_mean_squared_error: 0.4288\n",
      "Epoch 8/50\n",
      "48077/48077 [==============================] - 11s 237us/step - loss: 0.2795 - mean_absolute_error: 0.4360 - root_mean_squared_error: 0.4360 - val_loss: 0.3111 - val_mean_absolute_error: 0.4461 - val_root_mean_squared_error: 0.4461\n",
      "Epoch 9/50\n",
      "48077/48077 [==============================] - 11s 237us/step - loss: 0.2790 - mean_absolute_error: 0.4356 - root_mean_squared_error: 0.4356 - val_loss: 0.2950 - val_mean_absolute_error: 0.4356 - val_root_mean_squared_error: 0.4356\n",
      "Epoch 10/50\n",
      "48077/48077 [==============================] - 11s 237us/step - loss: 0.2778 - mean_absolute_error: 0.4346 - root_mean_squared_error: 0.4346 - val_loss: 0.2841 - val_mean_absolute_error: 0.4271 - val_root_mean_squared_error: 0.4271\n",
      "Epoch 11/50\n",
      "48077/48077 [==============================] - 11s 237us/step - loss: 0.2785 - mean_absolute_error: 0.4350 - root_mean_squared_error: 0.4350 - val_loss: 0.2922 - val_mean_absolute_error: 0.4349 - val_root_mean_squared_error: 0.4349\n",
      "Epoch 12/50\n",
      "48077/48077 [==============================] - 11s 237us/step - loss: 0.2770 - mean_absolute_error: 0.4339 - root_mean_squared_error: 0.4339 - val_loss: 0.2967 - val_mean_absolute_error: 0.4358 - val_root_mean_squared_error: 0.4358\n",
      "Epoch 13/50\n",
      "48077/48077 [==============================] - 11s 238us/step - loss: 0.2781 - mean_absolute_error: 0.4348 - root_mean_squared_error: 0.4348 - val_loss: 0.3007 - val_mean_absolute_error: 0.4410 - val_root_mean_squared_error: 0.4410\n",
      "Epoch 14/50\n",
      "48077/48077 [==============================] - 11s 237us/step - loss: 0.2769 - mean_absolute_error: 0.4338 - root_mean_squared_error: 0.4338 - val_loss: 0.2914 - val_mean_absolute_error: 0.4333 - val_root_mean_squared_error: 0.4333\n",
      "Epoch 15/50\n",
      "48077/48077 [==============================] - 11s 237us/step - loss: 0.2782 - mean_absolute_error: 0.4349 - root_mean_squared_error: 0.4349 - val_loss: 0.2865 - val_mean_absolute_error: 0.4290 - val_root_mean_squared_error: 0.4290\n",
      "\n",
      "Epoch 00015: ReduceLROnPlateau reducing learning rate to 0.1.\n",
      "Epoch 16/50\n",
      "48077/48077 [==============================] - 11s 237us/step - loss: 0.2744 - mean_absolute_error: 0.4321 - root_mean_squared_error: 0.4321 - val_loss: 0.2912 - val_mean_absolute_error: 0.4330 - val_root_mean_squared_error: 0.4330\n",
      "Epoch 17/50\n",
      "48077/48077 [==============================] - 11s 237us/step - loss: 0.2742 - mean_absolute_error: 0.4320 - root_mean_squared_error: 0.4320 - val_loss: 0.2909 - val_mean_absolute_error: 0.4326 - val_root_mean_squared_error: 0.4326\n",
      "Epoch 18/50\n",
      "48077/48077 [==============================] - 11s 237us/step - loss: 0.2741 - mean_absolute_error: 0.4320 - root_mean_squared_error: 0.4320 - val_loss: 0.2911 - val_mean_absolute_error: 0.4329 - val_root_mean_squared_error: 0.4329\n",
      "Epoch 19/50\n",
      "48077/48077 [==============================] - 11s 237us/step - loss: 0.2740 - mean_absolute_error: 0.4319 - root_mean_squared_error: 0.4319 - val_loss: 0.2891 - val_mean_absolute_error: 0.4313 - val_root_mean_squared_error: 0.4313\n",
      "Epoch 20/50\n",
      "48077/48077 [==============================] - 11s 237us/step - loss: 0.2740 - mean_absolute_error: 0.4319 - root_mean_squared_error: 0.4319 - val_loss: 0.2914 - val_mean_absolute_error: 0.4330 - val_root_mean_squared_error: 0.4330\n",
      "Epoch 21/50\n",
      "48077/48077 [==============================] - 11s 236us/step - loss: 0.2739 - mean_absolute_error: 0.4318 - root_mean_squared_error: 0.4318 - val_loss: 0.2927 - val_mean_absolute_error: 0.4343 - val_root_mean_squared_error: 0.4343\n",
      "\n",
      "Epoch 00021: ReduceLROnPlateau reducing learning rate to 0.010000000149011612.\n",
      "Epoch 22/50\n",
      "48077/48077 [==============================] - 11s 238us/step - loss: 0.2738 - mean_absolute_error: 0.4316 - root_mean_squared_error: 0.4316 - val_loss: 0.2908 - val_mean_absolute_error: 0.4326 - val_root_mean_squared_error: 0.4326\n",
      "Epoch 23/50\n",
      "48077/48077 [==============================] - 11s 237us/step - loss: 0.2737 - mean_absolute_error: 0.4317 - root_mean_squared_error: 0.4317 - val_loss: 0.2903 - val_mean_absolute_error: 0.4323 - val_root_mean_squared_error: 0.4323\n",
      "running time: 4.407435746987661\n"
     ]
    }
   ],
   "source": [
    "training_start = time.time()\n",
    "history = model.fit([X_train['search_term'][train_inds], X_train['product_description'][train_inds]], \n",
    "                                     Y_train.values[train_inds], \n",
    "                                     validation_data=[[X_train['search_term'][test_inds], X_train['product_description'][test_inds]], Y_train.values[test_inds]], \n",
    "                                     epochs=50, batch_size=1024, callbacks=set_callbacks(model_num = '_char_level_depper'))\n",
    "\n",
    "end_time = time.time()\n",
    "run_time = (end_time-training_start)/60\n",
    "print('running time: {}'.format(run_time))"
   ]
  },
  {
   "cell_type": "code",
   "execution_count": 25,
   "metadata": {},
   "outputs": [],
   "source": [
    "def predict_and_update_teble(model, time,title):\n",
    "    train_prediction = model.predict([X_train['search_term'][train_inds], X_train['product_description'][train_inds]])\n",
    "    valid_prediction = model.predict([X_train['search_term'][test_inds], X_train['product_description'][test_inds]])\n",
    "    test_prediction = model.predict([X_test['search_term'],X_test['product_description']])\n",
    "    update_result_table(title, time,\n",
    "                       train_prediction, Y_train.values[train_inds],\n",
    "                       valid_prediction, Y_train.values[test_inds],\n",
    "                       test_prediction, y_test.values)\n",
    "    return [train_prediction, valid_prediction, test_prediction]\n",
    "    \n",
    "def plot_model_history(model_history):\n",
    "  fig, axs = plt.subplots(1,1,figsize=(15,5))\n",
    "  axs.plot(range(1,len(model_history['loss'])+1),model_history['loss'])\n",
    "  axs.plot(range(1,len(model_history['val_loss'])+1),model_history['val_loss'])\n",
    "  axs.set_title('Model Loss')\n",
    "  axs.set_ylabel('Loss')\n",
    "  axs.set_xlabel('Epoch')\n",
    "  axs.set_xticks(np.arange(1,len(model_history['loss'])+1),len(model_history['loss'])/10)\n",
    "  axs.legend(['train', 'val'], loc='best')\n",
    "  plt.show()"
   ]
  },
  {
   "cell_type": "code",
   "execution_count": 96,
   "metadata": {},
   "outputs": [
    {
     "data": {
      "image/png": "[encoded data removed]",
      "text/plain": [
       "<Figure size 1080x360 with 1 Axes>"
      ]
     },
     "metadata": {
      "needs_background": "light"
     },
     "output_type": "display_data"
    }
   ],
   "source": [
    "plot_model_history(history.history)"
   ]
  },
  {
   "cell_type": "code",
   "execution_count": 93,
   "metadata": {},
   "outputs": [],
   "source": [
    "train_prediction = model.predict([X_train['search_term'][train_inds], X_train['product_description'][train_inds]])\n",
    "valid_prediction = model.predict([X_train['search_term'][test_inds], X_train['product_description'][test_inds]])\n",
    "test_prediction = model.predict([X_test['search_term'],X_test['product_description']])"
   ]
  },
  {
   "cell_type": "code",
   "execution_count": 94,
   "metadata": {},
   "outputs": [
    {
     "name": "stdout",
     "output_type": "stream",
     "text": [
      "train rmse: 0.5231089339256657,val rmse: 0.5388363726231097,test rmse: 0.5341391361613422,train mae: 0.43164218671196347,val mae: 0.43226052447400126, test mae: 0.4355139274980197\n"
     ]
    }
   ],
   "source": [
    "update_result_table('_char_level_depper', run_time,\n",
    "                       train_prediction, Y_train.values[train_inds],\n",
    "                       valid_prediction, Y_train.values[test_inds],\n",
    "                       test_prediction, y_test.values)"
   ]
  },
  {
   "cell_type": "code",
   "execution_count": 30,
   "metadata": {},
   "outputs": [
    {
     "data": {
      "text/html": [
       "<div>\n",
       "<style scoped>\n",
       "    .dataframe tbody tr th:only-of-type {\n",
       "        vertical-align: middle;\n",
       "    }\n",
       "\n",
       "    .dataframe tbody tr th {\n",
       "        vertical-align: top;\n",
       "    }\n",
       "\n",
       "    .dataframe thead th {\n",
       "        text-align: right;\n",
       "    }\n",
       "</style>\n",
       "<table border=\"1\" class=\"dataframe\">\n",
       "  <thead>\n",
       "    <tr style=\"text-align: right;\">\n",
       "      <th></th>\n",
       "      <th>Model type</th>\n",
       "      <th>runtime</th>\n",
       "      <th>Train RMSE</th>\n",
       "      <th>Val-RMSE</th>\n",
       "      <th>Test-RMSE</th>\n",
       "      <th>Train MAE</th>\n",
       "      <th>Val-MAE</th>\n",
       "      <th>Test-MAE</th>\n",
       "    </tr>\n",
       "  </thead>\n",
       "  <tbody>\n",
       "    <tr>\n",
       "      <th>0</th>\n",
       "      <td>_final_char_leve_emmbedings</td>\n",
       "      <td>6.54034</td>\n",
       "      <td>0.523769</td>\n",
       "      <td>0.539189</td>\n",
       "      <td>0.534762</td>\n",
       "      <td>0.432266</td>\n",
       "      <td>0.432609</td>\n",
       "      <td>0.43627</td>\n",
       "    </tr>\n",
       "    <tr>\n",
       "      <th>1</th>\n",
       "      <td>6.54034</td>\n",
       "      <td>_final_char_leve_emmbedings</td>\n",
       "      <td>0.523769</td>\n",
       "      <td>0.539189</td>\n",
       "      <td>0.534762</td>\n",
       "      <td>0.432266</td>\n",
       "      <td>0.432609</td>\n",
       "      <td>0.43627</td>\n",
       "    </tr>\n",
       "  </tbody>\n",
       "</table>\n",
       "</div>"
      ],
      "text/plain": [
       "                    Model type                      runtime  Train RMSE  \\\n",
       "0  _final_char_leve_emmbedings                      6.54034    0.523769   \n",
       "1                      6.54034  _final_char_leve_emmbedings    0.523769   \n",
       "\n",
       "   Val-RMSE  Test-RMSE  Train MAE   Val-MAE  Test-MAE  \n",
       "0  0.539189   0.534762   0.432266  0.432609   0.43627  \n",
       "1  0.539189   0.534762   0.432266  0.432609   0.43627  "
      ]
     },
     "execution_count": 30,
     "metadata": {},
     "output_type": "execute_result"
    }
   ],
   "source": [
    "results_table.head()"
   ]
  },
  {
   "cell_type": "markdown",
   "metadata": {},
   "source": [
    "## C \n",
    "Lets create a naive base model"
   ]
  },
  {
   "cell_type": "code",
   "execution_count": 31,
   "metadata": {},
   "outputs": [],
   "source": [
    "mean=Y_train.values[train_inds].mean()"
   ]
  },
  {
   "cell_type": "code",
   "execution_count": 32,
   "metadata": {},
   "outputs": [],
   "source": [
    "med = np.median(Y_train.values[train_inds])"
   ]
  },
  {
   "cell_type": "code",
   "execution_count": 33,
   "metadata": {},
   "outputs": [
    {
     "name": "stdout",
     "output_type": "stream",
     "text": [
      "train rmse: 0.5315912592012845,val rmse: 0.5441691290539896,test rmse: 0.5374227080400054,train mae: 0.4422309624817527,val mae: 0.4395021344855421, test mae: 0.4418313151526855\n"
     ]
    }
   ],
   "source": [
    "update_result_table('mean', 0,\n",
    "                       [mean]*len(Y_train.values[train_inds]), Y_train.values[train_inds],\n",
    "                       [mean]*len(Y_train.values[test_inds]), Y_train.values[test_inds],\n",
    "                       [mean]*len(y_test.values), y_test.values)"
   ]
  },
  {
   "cell_type": "code",
   "execution_count": 34,
   "metadata": {},
   "outputs": [
    {
     "name": "stdout",
     "output_type": "stream",
     "text": [
      "train rmse: 0.5838509475790149,val rmse: 0.6472946839339658,test rmse: 0.6085322713285541,train mae: 0.43905547351124236,val mae: 0.4953524432474028, test mae: 0.457977906074045\n"
     ]
    }
   ],
   "source": [
    "update_result_table('median', 0,\n",
    "                       [med]*len(Y_train.values[train_inds]), Y_train.values[train_inds],\n",
    "                       [med]*len(Y_train.values[test_inds]), Y_train.values[test_inds],\n",
    "                       [med]*len(y_test.values), y_test.values)"
   ]
  },
  {
   "cell_type": "code",
   "execution_count": 35,
   "metadata": {},
   "outputs": [
    {
     "data": {
      "text/html": [
       "<div>\n",
       "<style scoped>\n",
       "    .dataframe tbody tr th:only-of-type {\n",
       "        vertical-align: middle;\n",
       "    }\n",
       "\n",
       "    .dataframe tbody tr th {\n",
       "        vertical-align: top;\n",
       "    }\n",
       "\n",
       "    .dataframe thead th {\n",
       "        text-align: right;\n",
       "    }\n",
       "</style>\n",
       "<table border=\"1\" class=\"dataframe\">\n",
       "  <thead>\n",
       "    <tr style=\"text-align: right;\">\n",
       "      <th></th>\n",
       "      <th>Model type</th>\n",
       "      <th>runtime</th>\n",
       "      <th>Train RMSE</th>\n",
       "      <th>Val-RMSE</th>\n",
       "      <th>Test-RMSE</th>\n",
       "      <th>Train MAE</th>\n",
       "      <th>Val-MAE</th>\n",
       "      <th>Test-MAE</th>\n",
       "    </tr>\n",
       "  </thead>\n",
       "  <tbody>\n",
       "    <tr>\n",
       "      <th>0</th>\n",
       "      <td>_final_char_leve_emmbedings</td>\n",
       "      <td>6.54034</td>\n",
       "      <td>0.523769</td>\n",
       "      <td>0.539189</td>\n",
       "      <td>0.534762</td>\n",
       "      <td>0.432266</td>\n",
       "      <td>0.432609</td>\n",
       "      <td>0.436270</td>\n",
       "    </tr>\n",
       "    <tr>\n",
       "      <th>1</th>\n",
       "      <td>6.54034</td>\n",
       "      <td>_final_char_leve_emmbedings</td>\n",
       "      <td>0.523769</td>\n",
       "      <td>0.539189</td>\n",
       "      <td>0.534762</td>\n",
       "      <td>0.432266</td>\n",
       "      <td>0.432609</td>\n",
       "      <td>0.436270</td>\n",
       "    </tr>\n",
       "    <tr>\n",
       "      <th>2</th>\n",
       "      <td>mean</td>\n",
       "      <td>0</td>\n",
       "      <td>0.531591</td>\n",
       "      <td>0.544169</td>\n",
       "      <td>0.537423</td>\n",
       "      <td>0.442231</td>\n",
       "      <td>0.439502</td>\n",
       "      <td>0.441831</td>\n",
       "    </tr>\n",
       "    <tr>\n",
       "      <th>3</th>\n",
       "      <td>median</td>\n",
       "      <td>0</td>\n",
       "      <td>0.583851</td>\n",
       "      <td>0.647295</td>\n",
       "      <td>0.608532</td>\n",
       "      <td>0.439055</td>\n",
       "      <td>0.495352</td>\n",
       "      <td>0.457978</td>\n",
       "    </tr>\n",
       "  </tbody>\n",
       "</table>\n",
       "</div>"
      ],
      "text/plain": [
       "                    Model type                      runtime  Train RMSE  \\\n",
       "0  _final_char_leve_emmbedings                      6.54034    0.523769   \n",
       "1                      6.54034  _final_char_leve_emmbedings    0.523769   \n",
       "2                         mean                            0    0.531591   \n",
       "3                       median                            0    0.583851   \n",
       "\n",
       "   Val-RMSE  Test-RMSE  Train MAE   Val-MAE  Test-MAE  \n",
       "0  0.539189   0.534762   0.432266  0.432609  0.436270  \n",
       "1  0.539189   0.534762   0.432266  0.432609  0.436270  \n",
       "2  0.544169   0.537423   0.442231  0.439502  0.441831  \n",
       "3  0.647295   0.608532   0.439055  0.495352  0.457978  "
      ]
     },
     "execution_count": 35,
     "metadata": {},
     "output_type": "execute_result"
    }
   ],
   "source": [
    "results_table.head()"
   ]
  },
  {
   "cell_type": "markdown",
   "metadata": {},
   "source": [
    "## D \n",
    "Feature extraction"
   ]
  },
  {
   "cell_type": "code",
   "execution_count": 67,
   "metadata": {},
   "outputs": [],
   "source": [
    "inter_model = Model(inputs = model.inputs,\n",
    "                    outputs = model.layers[2].get_output_at(2))"
   ]
  },
  {
   "cell_type": "code",
   "execution_count": 68,
   "metadata": {},
   "outputs": [
    {
     "name": "stdout",
     "output_type": "stream",
     "text": [
      "_________________________________________________________________\n",
      "Layer (type)                 Output Shape              Param #   \n",
      "=================================================================\n",
      "product_input (InputLayer)   (None, 586, 1)            0         \n",
      "_________________________________________________________________\n",
      "shared_model (Sequential)    (None, 128)               17128     \n",
      "=================================================================\n",
      "Total params: 17,128\n",
      "Trainable params: 17,128\n",
      "Non-trainable params: 0\n",
      "_________________________________________________________________\n"
     ]
    }
   ],
   "source": [
    "inter_model.summary()"
   ]
  },
  {
   "cell_type": "code",
   "execution_count": 70,
   "metadata": {},
   "outputs": [],
   "source": [
    "train_features = inter_model.predict([X_train['search_term'][train_inds], X_train['product_description'][train_inds]])\n",
    "valid_featurs = inter_model.predict([X_train['search_term'][test_inds], X_train['product_description'][test_inds]])\n",
    "test_features = inter_model.predict([X_test['search_term'],X_test['product_description']])\n"
   ]
  },
  {
   "cell_type": "code",
   "execution_count": 71,
   "metadata": {},
   "outputs": [
    {
     "name": "stderr",
     "output_type": "stream",
     "text": [
      "C:\\Users\\vfqk84\\AppData\\Local\\Continuum\\anaconda3\\envs\\keras\\lib\\site-packages\\sklearn\\preprocessing\\data.py:176: UserWarning: Numerical issues were encountered when centering the data and might not be solved. Dataset may contain too large values. You may need to prescale your features.\n",
      "  warnings.warn(\"Numerical issues were encountered \"\n",
      "C:\\Users\\vfqk84\\AppData\\Local\\Continuum\\anaconda3\\envs\\keras\\lib\\site-packages\\sklearn\\preprocessing\\data.py:193: UserWarning: Numerical issues were encountered when scaling the data and might not be solved. The standard deviation of the data is probably very close to 0. \n",
      "  warnings.warn(\"Numerical issues were encountered \"\n",
      "C:\\Users\\vfqk84\\AppData\\Local\\Continuum\\anaconda3\\envs\\keras\\lib\\site-packages\\sklearn\\preprocessing\\data.py:176: UserWarning: Numerical issues were encountered when centering the data and might not be solved. Dataset may contain too large values. You may need to prescale your features.\n",
      "  warnings.warn(\"Numerical issues were encountered \"\n",
      "C:\\Users\\vfqk84\\AppData\\Local\\Continuum\\anaconda3\\envs\\keras\\lib\\site-packages\\sklearn\\preprocessing\\data.py:193: UserWarning: Numerical issues were encountered when scaling the data and might not be solved. The standard deviation of the data is probably very close to 0. \n",
      "  warnings.warn(\"Numerical issues were encountered \"\n",
      "C:\\Users\\vfqk84\\AppData\\Local\\Continuum\\anaconda3\\envs\\keras\\lib\\site-packages\\sklearn\\preprocessing\\data.py:176: UserWarning: Numerical issues were encountered when centering the data and might not be solved. Dataset may contain too large values. You may need to prescale your features.\n",
      "  warnings.warn(\"Numerical issues were encountered \"\n",
      "C:\\Users\\vfqk84\\AppData\\Local\\Continuum\\anaconda3\\envs\\keras\\lib\\site-packages\\sklearn\\preprocessing\\data.py:193: UserWarning: Numerical issues were encountered when scaling the data and might not be solved. The standard deviation of the data is probably very close to 0. \n",
      "  warnings.warn(\"Numerical issues were encountered \"\n"
     ]
    }
   ],
   "source": [
    "min_max__features_scaler = preprocessing.MinMaxScaler()\n",
    "min_max__features_scaler.fit(train_features)\n",
    "train_features = preprocessing.scale(min_max__features_scaler.transform(train_features))\n",
    "valid_featurs = preprocessing.scale(min_max__features_scaler.transform(valid_featurs))\n",
    "test_features = preprocessing.scale(min_max__features_scaler.transform(test_features))"
   ]
  },
  {
   "cell_type": "markdown",
   "metadata": {},
   "source": [
    "### XGBoost\n",
    "Lets take our features and train a regressor"
   ]
  },
  {
   "cell_type": "code",
   "execution_count": 72,
   "metadata": {},
   "outputs": [],
   "source": [
    "import xgboost as xgb\n",
    "from sklearn.model_selection import GridSearchCV\n",
    "from sklearn.metrics import mean_squared_error, make_scorer\n"
   ]
  },
  {
   "cell_type": "code",
   "execution_count": 75,
   "metadata": {},
   "outputs": [
    {
     "name": "stdout",
     "output_type": "stream",
     "text": [
      "Fitting 2 folds for each of 16 candidates, totalling 32 fits\n",
      "[CV] colsample_bytree=0.8, learning_rate=0.01, max_depth=6, n_estimators=400, subsample=0.7 \n"
     ]
    },
    {
     "name": "stderr",
     "output_type": "stream",
     "text": [
      "[Parallel(n_jobs=1)]: Using backend SequentialBackend with 1 concurrent workers.\n"
     ]
    },
    {
     "name": "stdout",
     "output_type": "stream",
     "text": [
      "[CV]  colsample_bytree=0.8, learning_rate=0.01, max_depth=6, n_estimators=400, subsample=0.7, total= 1.5min\n",
      "[CV] colsample_bytree=0.8, learning_rate=0.01, max_depth=6, n_estimators=400, subsample=0.7 \n"
     ]
    },
    {
     "name": "stderr",
     "output_type": "stream",
     "text": [
      "[Parallel(n_jobs=1)]: Done   1 out of   1 | elapsed:  1.5min remaining:    0.0s\n"
     ]
    },
    {
     "name": "stdout",
     "output_type": "stream",
     "text": [
      "[CV]  colsample_bytree=0.8, learning_rate=0.01, max_depth=6, n_estimators=400, subsample=0.7, total= 1.5min\n",
      "[CV] colsample_bytree=0.8, learning_rate=0.01, max_depth=6, n_estimators=400, subsample=0.8 \n",
      "[CV]  colsample_bytree=0.8, learning_rate=0.01, max_depth=6, n_estimators=400, subsample=0.8, total= 1.5min\n",
      "[CV] colsample_bytree=0.8, learning_rate=0.01, max_depth=6, n_estimators=400, subsample=0.8 \n",
      "[CV]  colsample_bytree=0.8, learning_rate=0.01, max_depth=6, n_estimators=400, subsample=0.8, total= 1.5min\n",
      "[CV] colsample_bytree=0.8, learning_rate=0.01, max_depth=8, n_estimators=400, subsample=0.7 \n",
      "[CV]  colsample_bytree=0.8, learning_rate=0.01, max_depth=8, n_estimators=400, subsample=0.7, total= 1.9min\n",
      "[CV] colsample_bytree=0.8, learning_rate=0.01, max_depth=8, n_estimators=400, subsample=0.7 \n",
      "[CV]  colsample_bytree=0.8, learning_rate=0.01, max_depth=8, n_estimators=400, subsample=0.7, total= 1.9min\n",
      "[CV] colsample_bytree=0.8, learning_rate=0.01, max_depth=8, n_estimators=400, subsample=0.8 \n",
      "[CV]  colsample_bytree=0.8, learning_rate=0.01, max_depth=8, n_estimators=400, subsample=0.8, total= 1.9min\n",
      "[CV] colsample_bytree=0.8, learning_rate=0.01, max_depth=8, n_estimators=400, subsample=0.8 \n",
      "[CV]  colsample_bytree=0.8, learning_rate=0.01, max_depth=8, n_estimators=400, subsample=0.8, total= 1.9min\n",
      "[CV] colsample_bytree=0.8, learning_rate=0.001, max_depth=6, n_estimators=400, subsample=0.7 \n",
      "[CV]  colsample_bytree=0.8, learning_rate=0.001, max_depth=6, n_estimators=400, subsample=0.7, total= 1.4min\n",
      "[CV] colsample_bytree=0.8, learning_rate=0.001, max_depth=6, n_estimators=400, subsample=0.7 \n",
      "[CV]  colsample_bytree=0.8, learning_rate=0.001, max_depth=6, n_estimators=400, subsample=0.7, total= 1.5min\n",
      "[CV] colsample_bytree=0.8, learning_rate=0.001, max_depth=6, n_estimators=400, subsample=0.8 \n",
      "[CV]  colsample_bytree=0.8, learning_rate=0.001, max_depth=6, n_estimators=400, subsample=0.8, total= 1.5min\n",
      "[CV] colsample_bytree=0.8, learning_rate=0.001, max_depth=6, n_estimators=400, subsample=0.8 \n",
      "[CV]  colsample_bytree=0.8, learning_rate=0.001, max_depth=6, n_estimators=400, subsample=0.8, total= 1.5min\n",
      "[CV] colsample_bytree=0.8, learning_rate=0.001, max_depth=8, n_estimators=400, subsample=0.7 \n",
      "[CV]  colsample_bytree=0.8, learning_rate=0.001, max_depth=8, n_estimators=400, subsample=0.7, total= 1.9min\n",
      "[CV] colsample_bytree=0.8, learning_rate=0.001, max_depth=8, n_estimators=400, subsample=0.7 \n",
      "[CV]  colsample_bytree=0.8, learning_rate=0.001, max_depth=8, n_estimators=400, subsample=0.7, total= 1.9min\n",
      "[CV] colsample_bytree=0.8, learning_rate=0.001, max_depth=8, n_estimators=400, subsample=0.8 \n",
      "[CV]  colsample_bytree=0.8, learning_rate=0.001, max_depth=8, n_estimators=400, subsample=0.8, total= 1.8min\n",
      "[CV] colsample_bytree=0.8, learning_rate=0.001, max_depth=8, n_estimators=400, subsample=0.8 \n",
      "[CV]  colsample_bytree=0.8, learning_rate=0.001, max_depth=8, n_estimators=400, subsample=0.8, total= 1.9min\n",
      "[CV] colsample_bytree=0.85, learning_rate=0.01, max_depth=6, n_estimators=400, subsample=0.7 \n",
      "[CV]  colsample_bytree=0.85, learning_rate=0.01, max_depth=6, n_estimators=400, subsample=0.7, total= 1.5min\n",
      "[CV] colsample_bytree=0.85, learning_rate=0.01, max_depth=6, n_estimators=400, subsample=0.7 \n",
      "[CV]  colsample_bytree=0.85, learning_rate=0.01, max_depth=6, n_estimators=400, subsample=0.7, total= 1.5min\n",
      "[CV] colsample_bytree=0.85, learning_rate=0.01, max_depth=6, n_estimators=400, subsample=0.8 \n",
      "[CV]  colsample_bytree=0.85, learning_rate=0.01, max_depth=6, n_estimators=400, subsample=0.8, total= 1.5min\n",
      "[CV] colsample_bytree=0.85, learning_rate=0.01, max_depth=6, n_estimators=400, subsample=0.8 \n",
      "[CV]  colsample_bytree=0.85, learning_rate=0.01, max_depth=6, n_estimators=400, subsample=0.8, total= 1.6min\n",
      "[CV] colsample_bytree=0.85, learning_rate=0.01, max_depth=8, n_estimators=400, subsample=0.7 \n",
      "[CV]  colsample_bytree=0.85, learning_rate=0.01, max_depth=8, n_estimators=400, subsample=0.7, total= 2.0min\n",
      "[CV] colsample_bytree=0.85, learning_rate=0.01, max_depth=8, n_estimators=400, subsample=0.7 \n",
      "[CV]  colsample_bytree=0.85, learning_rate=0.01, max_depth=8, n_estimators=400, subsample=0.7, total= 2.0min\n",
      "[CV] colsample_bytree=0.85, learning_rate=0.01, max_depth=8, n_estimators=400, subsample=0.8 \n",
      "[CV]  colsample_bytree=0.85, learning_rate=0.01, max_depth=8, n_estimators=400, subsample=0.8, total= 2.0min\n",
      "[CV] colsample_bytree=0.85, learning_rate=0.01, max_depth=8, n_estimators=400, subsample=0.8 \n",
      "[CV]  colsample_bytree=0.85, learning_rate=0.01, max_depth=8, n_estimators=400, subsample=0.8, total= 2.1min\n",
      "[CV] colsample_bytree=0.85, learning_rate=0.001, max_depth=6, n_estimators=400, subsample=0.7 \n",
      "[CV]  colsample_bytree=0.85, learning_rate=0.001, max_depth=6, n_estimators=400, subsample=0.7, total= 1.5min\n",
      "[CV] colsample_bytree=0.85, learning_rate=0.001, max_depth=6, n_estimators=400, subsample=0.7 \n",
      "[CV]  colsample_bytree=0.85, learning_rate=0.001, max_depth=6, n_estimators=400, subsample=0.7, total= 1.5min\n",
      "[CV] colsample_bytree=0.85, learning_rate=0.001, max_depth=6, n_estimators=400, subsample=0.8 \n",
      "[CV]  colsample_bytree=0.85, learning_rate=0.001, max_depth=6, n_estimators=400, subsample=0.8, total= 1.5min\n",
      "[CV] colsample_bytree=0.85, learning_rate=0.001, max_depth=6, n_estimators=400, subsample=0.8 \n",
      "[CV]  colsample_bytree=0.85, learning_rate=0.001, max_depth=6, n_estimators=400, subsample=0.8, total= 1.5min\n",
      "[CV] colsample_bytree=0.85, learning_rate=0.001, max_depth=8, n_estimators=400, subsample=0.7 \n",
      "[CV]  colsample_bytree=0.85, learning_rate=0.001, max_depth=8, n_estimators=400, subsample=0.7, total= 1.9min\n",
      "[CV] colsample_bytree=0.85, learning_rate=0.001, max_depth=8, n_estimators=400, subsample=0.7 \n",
      "[CV]  colsample_bytree=0.85, learning_rate=0.001, max_depth=8, n_estimators=400, subsample=0.7, total= 2.0min\n",
      "[CV] colsample_bytree=0.85, learning_rate=0.001, max_depth=8, n_estimators=400, subsample=0.8 \n",
      "[CV]  colsample_bytree=0.85, learning_rate=0.001, max_depth=8, n_estimators=400, subsample=0.8, total= 1.9min\n",
      "[CV] colsample_bytree=0.85, learning_rate=0.001, max_depth=8, n_estimators=400, subsample=0.8 \n",
      "[CV]  colsample_bytree=0.85, learning_rate=0.001, max_depth=8, n_estimators=400, subsample=0.8, total= 2.0min\n"
     ]
    },
    {
     "name": "stderr",
     "output_type": "stream",
     "text": [
      "[Parallel(n_jobs=1)]: Done  32 out of  32 | elapsed: 55.7min finished\n"
     ]
    },
    {
     "name": "stdout",
     "output_type": "stream",
     "text": [
      "running time: 59.69230476617813\n"
     ]
    }
   ],
   "source": [
    "training_start_time = time.time()\n",
    "\n",
    "xgb_model = xgb.XGBRegressor(n_estimators=400,learning_rate=0.01, max_depth=8, sub_sample=0.8,colsample_bytree=0.85, seed=1)\n",
    "param_grid = {\n",
    "        'n_estimators': [400],\n",
    "        'learning_rate': [0.01, 0.001],\n",
    "        'max_depth': [6, 8],\n",
    "        'subsample': [0.7, 0.8],\n",
    "        'colsample_bytree': [0.8, 0.85]}\n",
    "\n",
    "xgb_model = GridSearchCV(estimator=xgb_model, param_grid=param_grid, n_jobs=4, cv=2, verbose=2)\n",
    "\n",
    "xgb_model.fit(train_features,Y_train.values[train_inds].ravel())\n",
    "\n",
    "training_end_time = time.time()\n",
    "print('running time: {}'.format((training_end_time-training_start_time)/60))\n"
   ]
  },
  {
   "cell_type": "code",
   "execution_count": 76,
   "metadata": {},
   "outputs": [
    {
     "name": "stdout",
     "output_type": "stream",
     "text": [
      "train rmse: 0.5052334351478802,val rmse: 0.5337577717874237,test rmse: 0.5342537672655845,train mae: 0.4200061508766027,val mae: 0.4287637829883322, test mae: 0.43784575735494996\n"
     ]
    },
    {
     "data": {
      "text/html": [
       "<div>\n",
       "<style scoped>\n",
       "    .dataframe tbody tr th:only-of-type {\n",
       "        vertical-align: middle;\n",
       "    }\n",
       "\n",
       "    .dataframe tbody tr th {\n",
       "        vertical-align: top;\n",
       "    }\n",
       "\n",
       "    .dataframe thead th {\n",
       "        text-align: right;\n",
       "    }\n",
       "</style>\n",
       "<table border=\"1\" class=\"dataframe\">\n",
       "  <thead>\n",
       "    <tr style=\"text-align: right;\">\n",
       "      <th></th>\n",
       "      <th>Model type</th>\n",
       "      <th>runtime</th>\n",
       "      <th>Train RMSE</th>\n",
       "      <th>Val-RMSE</th>\n",
       "      <th>Test-RMSE</th>\n",
       "      <th>Train MAE</th>\n",
       "      <th>Val-MAE</th>\n",
       "      <th>Test-MAE</th>\n",
       "    </tr>\n",
       "  </thead>\n",
       "  <tbody>\n",
       "    <tr>\n",
       "      <th>0</th>\n",
       "      <td>_final_char_leve_emmbedings</td>\n",
       "      <td>6.54034</td>\n",
       "      <td>0.523769</td>\n",
       "      <td>0.539189</td>\n",
       "      <td>0.534762</td>\n",
       "      <td>0.432266</td>\n",
       "      <td>0.432609</td>\n",
       "      <td>0.436270</td>\n",
       "    </tr>\n",
       "    <tr>\n",
       "      <th>1</th>\n",
       "      <td>6.54034</td>\n",
       "      <td>_final_char_leve_emmbedings</td>\n",
       "      <td>0.523769</td>\n",
       "      <td>0.539189</td>\n",
       "      <td>0.534762</td>\n",
       "      <td>0.432266</td>\n",
       "      <td>0.432609</td>\n",
       "      <td>0.436270</td>\n",
       "    </tr>\n",
       "    <tr>\n",
       "      <th>2</th>\n",
       "      <td>mean</td>\n",
       "      <td>0</td>\n",
       "      <td>0.531591</td>\n",
       "      <td>0.544169</td>\n",
       "      <td>0.537423</td>\n",
       "      <td>0.442231</td>\n",
       "      <td>0.439502</td>\n",
       "      <td>0.441831</td>\n",
       "    </tr>\n",
       "    <tr>\n",
       "      <th>3</th>\n",
       "      <td>median</td>\n",
       "      <td>0</td>\n",
       "      <td>0.583851</td>\n",
       "      <td>0.647295</td>\n",
       "      <td>0.608532</td>\n",
       "      <td>0.439055</td>\n",
       "      <td>0.495352</td>\n",
       "      <td>0.457978</td>\n",
       "    </tr>\n",
       "    <tr>\n",
       "      <th>4</th>\n",
       "      <td>XGBoost - feature extracted</td>\n",
       "      <td>60</td>\n",
       "      <td>0.505233</td>\n",
       "      <td>0.533758</td>\n",
       "      <td>0.534254</td>\n",
       "      <td>0.420006</td>\n",
       "      <td>0.428764</td>\n",
       "      <td>0.437846</td>\n",
       "    </tr>\n",
       "  </tbody>\n",
       "</table>\n",
       "</div>"
      ],
      "text/plain": [
       "                    Model type                      runtime  Train RMSE  \\\n",
       "0  _final_char_leve_emmbedings                      6.54034    0.523769   \n",
       "1                      6.54034  _final_char_leve_emmbedings    0.523769   \n",
       "2                         mean                            0    0.531591   \n",
       "3                       median                            0    0.583851   \n",
       "4  XGBoost - feature extracted                           60    0.505233   \n",
       "\n",
       "   Val-RMSE  Test-RMSE  Train MAE   Val-MAE  Test-MAE  \n",
       "0  0.539189   0.534762   0.432266  0.432609  0.436270  \n",
       "1  0.539189   0.534762   0.432266  0.432609  0.436270  \n",
       "2  0.544169   0.537423   0.442231  0.439502  0.441831  \n",
       "3  0.647295   0.608532   0.439055  0.495352  0.457978  \n",
       "4  0.533758   0.534254   0.420006  0.428764  0.437846  "
      ]
     },
     "execution_count": 76,
     "metadata": {},
     "output_type": "execute_result"
    }
   ],
   "source": [
    "train_prediction = xgb_model.predict(train_features)\n",
    "valid_prediction = xgb_model.predict(valid_featurs)\n",
    "test_prediction = xgb_model.predict(test_features)\n",
    "update_result_table('XGBoost - feature extracted', \n",
    "                   round((training_end_time-training_start_time)/60), \n",
    "                   train_prediction, Y_train.values[train_inds],\n",
    "                   valid_prediction, Y_train.values[test_inds],\n",
    "                   test_prediction, y_test.values)\n",
    "results_table \n"
   ]
  },
  {
   "cell_type": "markdown",
   "metadata": {},
   "source": [
    "## Gradient Boosting"
   ]
  },
  {
   "cell_type": "code",
   "execution_count": 77,
   "metadata": {},
   "outputs": [],
   "source": [
    "from sklearn.ensemble import GradientBoostingRegressor"
   ]
  },
  {
   "cell_type": "code",
   "execution_count": 80,
   "metadata": {},
   "outputs": [
    {
     "name": "stdout",
     "output_type": "stream",
     "text": [
      "Fitting 3 folds for each of 8 candidates, totalling 24 fits\n"
     ]
    },
    {
     "name": "stderr",
     "output_type": "stream",
     "text": [
      "[Parallel(n_jobs=4)]: Using backend LokyBackend with 4 concurrent workers.\n",
      "[Parallel(n_jobs=4)]: Done   1 tasks      | elapsed:   15.7s\n",
      "[Parallel(n_jobs=4)]: Done   2 tasks      | elapsed:   16.1s\n",
      "[Parallel(n_jobs=4)]: Done   3 tasks      | elapsed:   16.9s\n",
      "[Parallel(n_jobs=4)]: Done   4 tasks      | elapsed:   17.1s\n",
      "[Parallel(n_jobs=4)]: Done   5 tasks      | elapsed:   29.2s\n",
      "[Parallel(n_jobs=4)]: Done   6 tasks      | elapsed:   29.5s\n",
      "[Parallel(n_jobs=4)]: Done   7 tasks      | elapsed:   33.5s\n",
      "[Parallel(n_jobs=4)]: Done   8 tasks      | elapsed:   33.9s\n",
      "[Parallel(n_jobs=4)]: Done   9 tasks      | elapsed:   45.1s\n",
      "[Parallel(n_jobs=4)]: Done  10 tasks      | elapsed:   45.9s\n",
      "[Parallel(n_jobs=4)]: Done  11 tasks      | elapsed:   49.1s\n",
      "[Parallel(n_jobs=4)]: Done  12 tasks      | elapsed:   49.6s\n",
      "[Parallel(n_jobs=4)]: Done  13 tasks      | elapsed:   59.3s\n",
      "[Parallel(n_jobs=4)]: Done  14 tasks      | elapsed:  1.0min\n",
      "[Parallel(n_jobs=4)]: Done  15 tasks      | elapsed:  1.1min\n",
      "[Parallel(n_jobs=4)]: Done  16 tasks      | elapsed:  1.1min\n",
      "[Parallel(n_jobs=4)]: Done  17 tasks      | elapsed:  1.2min\n",
      "[Parallel(n_jobs=4)]: Done  19 out of  24 | elapsed:  1.3min remaining:   21.0s\n",
      "[Parallel(n_jobs=4)]: Done  21 out of  24 | elapsed:  1.5min remaining:   12.6s\n",
      "[Parallel(n_jobs=4)]: Done  24 out of  24 | elapsed:  1.6min finished\n"
     ]
    },
    {
     "name": "stdout",
     "output_type": "stream",
     "text": [
      "      Iter       Train Loss      OOB Improve   Remaining Time \n",
      "         1           0.2809           0.0000           15.98s\n",
      "         2           0.2827           0.0000           15.44s\n",
      "         3           0.2822           0.0000           15.91s\n",
      "         4           0.2818           0.0000           15.75s\n",
      "         5           0.2834           0.0000           15.45s\n",
      "         6           0.2802           0.0000           15.32s\n",
      "         7           0.2814           0.0000           15.92s\n",
      "         8           0.2813           0.0000           15.99s\n",
      "         9           0.2822           0.0000           16.10s\n",
      "        10           0.2787           0.0000           15.98s\n",
      "        20           0.2807           0.0000           15.46s\n",
      "        30           0.2817           0.0000           14.91s\n",
      "        40           0.2840           0.0000           14.66s\n",
      "        50           0.2792           0.0000           14.23s\n",
      "        60           0.2826           0.0000           13.83s\n",
      "        70           0.2797           0.0000           13.58s\n",
      "        80           0.2819           0.0000           13.67s\n",
      "        90           0.2811           0.0000           13.51s\n",
      "       100           0.2803          -0.0000           13.16s\n",
      "       200           0.2807           0.0000            9.65s\n",
      "       300           0.2787          -0.0000            6.17s\n",
      "       400           0.2800           0.0000            3.06s\n",
      "       500           0.2782           0.0000            0.00s\n",
      "running time: 1.8458329757054648\n"
     ]
    }
   ],
   "source": [
    "gbr_model = GradientBoostingRegressor(random_state=1, verbose=1)\n",
    "param_grid = {\n",
    "        'n_estimators': [500],\n",
    "        'max_features': [8,10],\n",
    "        'learning_rate': [0.1,0.01],\n",
    "        'subsample': [0.8,0.7]\n",
    "    }\n",
    "training_start_time = time.time()\n",
    "gbr_model = GridSearchCV(estimator=gbr_model, param_grid=param_grid, n_jobs=4, cv=3, verbose=20)\n",
    "gbr_model.fit(train_features,Y_train.values[train_inds])\n",
    "training_end_time = time.time()\n",
    "print('running time: {}'.format((training_end_time-training_start_time)/60))"
   ]
  },
  {
   "cell_type": "code",
   "execution_count": 81,
   "metadata": {},
   "outputs": [
    {
     "name": "stdout",
     "output_type": "stream",
     "text": [
      "train rmse: 0.5277528599342745,val rmse: 0.5428286614185074,test rmse: 0.5364930105703051,train mae: 0.4380801972247594,val mae: 0.4375832661878638, test mae: 0.4400690444569062\n"
     ]
    },
    {
     "data": {
      "text/html": [
       "<div>\n",
       "<style scoped>\n",
       "    .dataframe tbody tr th:only-of-type {\n",
       "        vertical-align: middle;\n",
       "    }\n",
       "\n",
       "    .dataframe tbody tr th {\n",
       "        vertical-align: top;\n",
       "    }\n",
       "\n",
       "    .dataframe thead th {\n",
       "        text-align: right;\n",
       "    }\n",
       "</style>\n",
       "<table border=\"1\" class=\"dataframe\">\n",
       "  <thead>\n",
       "    <tr style=\"text-align: right;\">\n",
       "      <th></th>\n",
       "      <th>Model type</th>\n",
       "      <th>runtime</th>\n",
       "      <th>Train RMSE</th>\n",
       "      <th>Val-RMSE</th>\n",
       "      <th>Test-RMSE</th>\n",
       "      <th>Train MAE</th>\n",
       "      <th>Val-MAE</th>\n",
       "      <th>Test-MAE</th>\n",
       "    </tr>\n",
       "  </thead>\n",
       "  <tbody>\n",
       "    <tr>\n",
       "      <th>0</th>\n",
       "      <td>_final_char_leve_emmbedings</td>\n",
       "      <td>6.54034</td>\n",
       "      <td>0.523769</td>\n",
       "      <td>0.539189</td>\n",
       "      <td>0.534762</td>\n",
       "      <td>0.432266</td>\n",
       "      <td>0.432609</td>\n",
       "      <td>0.436270</td>\n",
       "    </tr>\n",
       "    <tr>\n",
       "      <th>1</th>\n",
       "      <td>6.54034</td>\n",
       "      <td>_final_char_leve_emmbedings</td>\n",
       "      <td>0.523769</td>\n",
       "      <td>0.539189</td>\n",
       "      <td>0.534762</td>\n",
       "      <td>0.432266</td>\n",
       "      <td>0.432609</td>\n",
       "      <td>0.436270</td>\n",
       "    </tr>\n",
       "    <tr>\n",
       "      <th>2</th>\n",
       "      <td>mean</td>\n",
       "      <td>0</td>\n",
       "      <td>0.531591</td>\n",
       "      <td>0.544169</td>\n",
       "      <td>0.537423</td>\n",
       "      <td>0.442231</td>\n",
       "      <td>0.439502</td>\n",
       "      <td>0.441831</td>\n",
       "    </tr>\n",
       "    <tr>\n",
       "      <th>3</th>\n",
       "      <td>median</td>\n",
       "      <td>0</td>\n",
       "      <td>0.583851</td>\n",
       "      <td>0.647295</td>\n",
       "      <td>0.608532</td>\n",
       "      <td>0.439055</td>\n",
       "      <td>0.495352</td>\n",
       "      <td>0.457978</td>\n",
       "    </tr>\n",
       "    <tr>\n",
       "      <th>4</th>\n",
       "      <td>XGBoost - feature extracted</td>\n",
       "      <td>60</td>\n",
       "      <td>0.505233</td>\n",
       "      <td>0.533758</td>\n",
       "      <td>0.534254</td>\n",
       "      <td>0.420006</td>\n",
       "      <td>0.428764</td>\n",
       "      <td>0.437846</td>\n",
       "    </tr>\n",
       "    <tr>\n",
       "      <th>5</th>\n",
       "      <td>GradientBoostingRegressor - feature extracted</td>\n",
       "      <td>2</td>\n",
       "      <td>0.527753</td>\n",
       "      <td>0.542829</td>\n",
       "      <td>0.536493</td>\n",
       "      <td>0.438080</td>\n",
       "      <td>0.437583</td>\n",
       "      <td>0.440069</td>\n",
       "    </tr>\n",
       "  </tbody>\n",
       "</table>\n",
       "</div>"
      ],
      "text/plain": [
       "                                      Model type                      runtime  \\\n",
       "0                    _final_char_leve_emmbedings                      6.54034   \n",
       "1                                        6.54034  _final_char_leve_emmbedings   \n",
       "2                                           mean                            0   \n",
       "3                                         median                            0   \n",
       "4                    XGBoost - feature extracted                           60   \n",
       "5  GradientBoostingRegressor - feature extracted                            2   \n",
       "\n",
       "   Train RMSE  Val-RMSE  Test-RMSE  Train MAE   Val-MAE  Test-MAE  \n",
       "0    0.523769  0.539189   0.534762   0.432266  0.432609  0.436270  \n",
       "1    0.523769  0.539189   0.534762   0.432266  0.432609  0.436270  \n",
       "2    0.531591  0.544169   0.537423   0.442231  0.439502  0.441831  \n",
       "3    0.583851  0.647295   0.608532   0.439055  0.495352  0.457978  \n",
       "4    0.505233  0.533758   0.534254   0.420006  0.428764  0.437846  \n",
       "5    0.527753  0.542829   0.536493   0.438080  0.437583  0.440069  "
      ]
     },
     "execution_count": 81,
     "metadata": {},
     "output_type": "execute_result"
    }
   ],
   "source": [
    "train_prediction = gbr_model.predict(train_features)\n",
    "valid_prediction = gbr_model.predict(valid_featurs)\n",
    "test_prediction = gbr_model.predict(test_features)\n",
    "update_result_table('GradientBoostingRegressor - feature extracted', \n",
    "                   round((training_end_time-training_start_time)/60), \n",
    "                   train_prediction, Y_train.values[train_inds],\n",
    "                   valid_prediction, Y_train.values[test_inds],\n",
    "                   test_prediction, y_test.values)\n",
    "results_table "
   ]
  },
  {
   "cell_type": "markdown",
   "metadata": {},
   "source": [
    "## Gradient Boosting "
   ]
  },
  {
   "cell_type": "code",
   "execution_count": 82,
   "metadata": {},
   "outputs": [],
   "source": [
    "from sklearn.ensemble import RandomForestRegressor"
   ]
  },
  {
   "cell_type": "code",
   "execution_count": 84,
   "metadata": {},
   "outputs": [
    {
     "name": "stdout",
     "output_type": "stream",
     "text": [
      "Fitting 3 folds for each of 3 candidates, totalling 9 fits\n"
     ]
    },
    {
     "name": "stderr",
     "output_type": "stream",
     "text": [
      "[Parallel(n_jobs=4)]: Using backend LokyBackend with 4 concurrent workers.\n",
      "[Parallel(n_jobs=4)]: Done   1 tasks      | elapsed:  1.2min\n",
      "[Parallel(n_jobs=4)]: Done   2 tasks      | elapsed:  1.2min\n",
      "[Parallel(n_jobs=4)]: Done   3 out of   9 | elapsed:  1.4min remaining:  2.8min\n",
      "[Parallel(n_jobs=4)]: Done   4 out of   9 | elapsed:  1.5min remaining:  1.9min\n",
      "[Parallel(n_jobs=4)]: Done   5 out of   9 | elapsed:  2.6min remaining:  2.1min\n",
      "[Parallel(n_jobs=4)]: Done   6 out of   9 | elapsed:  2.6min remaining:  1.3min\n",
      "[Parallel(n_jobs=4)]: Done   7 out of   9 | elapsed:  2.9min remaining:   49.7s\n",
      "[Parallel(n_jobs=4)]: Done   9 out of   9 | elapsed:  3.2min remaining:    0.0s\n",
      "[Parallel(n_jobs=4)]: Done   9 out of   9 | elapsed:  3.2min finished\n",
      "[Parallel(n_jobs=1)]: Using backend SequentialBackend with 1 concurrent workers.\n"
     ]
    },
    {
     "name": "stdout",
     "output_type": "stream",
     "text": [
      "running time: 5.421234484513601\n"
     ]
    },
    {
     "name": "stderr",
     "output_type": "stream",
     "text": [
      "[Parallel(n_jobs=1)]: Done 500 out of 500 | elapsed:  2.2min finished\n"
     ]
    }
   ],
   "source": [
    "rfr_model = RandomForestRegressor(random_state=1, verbose=1)\n",
    "param_grid = {'n_estimators': [500], 'max_features': [10, 12, 14]}\n",
    "rfr_model = GridSearchCV(estimator=rfr_model, param_grid=param_grid, n_jobs=4, cv=3, verbose=20)\n",
    "\n",
    "training_start_time = time.time()\n",
    "rfr_model.fit(train_features,Y_train.values[train_inds].ravel())\n",
    "\n",
    "training_end_time = time.time()\n",
    "print('running time: {}'.format((training_end_time-training_start_time)/60))"
   ]
  },
  {
   "cell_type": "code",
   "execution_count": 85,
   "metadata": {},
   "outputs": [
    {
     "name": "stderr",
     "output_type": "stream",
     "text": [
      "[Parallel(n_jobs=1)]: Using backend SequentialBackend with 1 concurrent workers.\n",
      "[Parallel(n_jobs=1)]: Done 500 out of 500 | elapsed:    6.7s finished\n",
      "[Parallel(n_jobs=1)]: Using backend SequentialBackend with 1 concurrent workers.\n",
      "[Parallel(n_jobs=1)]: Done 500 out of 500 | elapsed:    3.7s finished\n",
      "[Parallel(n_jobs=1)]: Using backend SequentialBackend with 1 concurrent workers.\n"
     ]
    },
    {
     "name": "stdout",
     "output_type": "stream",
     "text": [
      "train rmse: 0.28096172992736157,val rmse: 0.5447445123109733,test rmse: 0.556197045785204,train mae: 0.21189135195058792,val mae: 0.43677542978508505, test mae: 0.45162979114787594\n"
     ]
    },
    {
     "name": "stderr",
     "output_type": "stream",
     "text": [
      "[Parallel(n_jobs=1)]: Done 500 out of 500 | elapsed:   14.0s finished\n"
     ]
    },
    {
     "data": {
      "text/html": [
       "<div>\n",
       "<style scoped>\n",
       "    .dataframe tbody tr th:only-of-type {\n",
       "        vertical-align: middle;\n",
       "    }\n",
       "\n",
       "    .dataframe tbody tr th {\n",
       "        vertical-align: top;\n",
       "    }\n",
       "\n",
       "    .dataframe thead th {\n",
       "        text-align: right;\n",
       "    }\n",
       "</style>\n",
       "<table border=\"1\" class=\"dataframe\">\n",
       "  <thead>\n",
       "    <tr style=\"text-align: right;\">\n",
       "      <th></th>\n",
       "      <th>Model type</th>\n",
       "      <th>runtime</th>\n",
       "      <th>Train RMSE</th>\n",
       "      <th>Val-RMSE</th>\n",
       "      <th>Test-RMSE</th>\n",
       "      <th>Train MAE</th>\n",
       "      <th>Val-MAE</th>\n",
       "      <th>Test-MAE</th>\n",
       "    </tr>\n",
       "  </thead>\n",
       "  <tbody>\n",
       "    <tr>\n",
       "      <th>0</th>\n",
       "      <td>_final_char_leve_emmbedings</td>\n",
       "      <td>6.54034</td>\n",
       "      <td>0.523769</td>\n",
       "      <td>0.539189</td>\n",
       "      <td>0.534762</td>\n",
       "      <td>0.432266</td>\n",
       "      <td>0.432609</td>\n",
       "      <td>0.436270</td>\n",
       "    </tr>\n",
       "    <tr>\n",
       "      <th>1</th>\n",
       "      <td>6.54034</td>\n",
       "      <td>_final_char_leve_emmbedings</td>\n",
       "      <td>0.523769</td>\n",
       "      <td>0.539189</td>\n",
       "      <td>0.534762</td>\n",
       "      <td>0.432266</td>\n",
       "      <td>0.432609</td>\n",
       "      <td>0.436270</td>\n",
       "    </tr>\n",
       "    <tr>\n",
       "      <th>2</th>\n",
       "      <td>mean</td>\n",
       "      <td>0</td>\n",
       "      <td>0.531591</td>\n",
       "      <td>0.544169</td>\n",
       "      <td>0.537423</td>\n",
       "      <td>0.442231</td>\n",
       "      <td>0.439502</td>\n",
       "      <td>0.441831</td>\n",
       "    </tr>\n",
       "    <tr>\n",
       "      <th>3</th>\n",
       "      <td>median</td>\n",
       "      <td>0</td>\n",
       "      <td>0.583851</td>\n",
       "      <td>0.647295</td>\n",
       "      <td>0.608532</td>\n",
       "      <td>0.439055</td>\n",
       "      <td>0.495352</td>\n",
       "      <td>0.457978</td>\n",
       "    </tr>\n",
       "    <tr>\n",
       "      <th>4</th>\n",
       "      <td>XGBoost - feature extracted</td>\n",
       "      <td>60</td>\n",
       "      <td>0.505233</td>\n",
       "      <td>0.533758</td>\n",
       "      <td>0.534254</td>\n",
       "      <td>0.420006</td>\n",
       "      <td>0.428764</td>\n",
       "      <td>0.437846</td>\n",
       "    </tr>\n",
       "    <tr>\n",
       "      <th>5</th>\n",
       "      <td>GradientBoostingRegressor - feature extracted</td>\n",
       "      <td>2</td>\n",
       "      <td>0.527753</td>\n",
       "      <td>0.542829</td>\n",
       "      <td>0.536493</td>\n",
       "      <td>0.438080</td>\n",
       "      <td>0.437583</td>\n",
       "      <td>0.440069</td>\n",
       "    </tr>\n",
       "    <tr>\n",
       "      <th>6</th>\n",
       "      <td>RandomForest - feature extracted</td>\n",
       "      <td>5</td>\n",
       "      <td>0.280962</td>\n",
       "      <td>0.544745</td>\n",
       "      <td>0.556197</td>\n",
       "      <td>0.211891</td>\n",
       "      <td>0.436775</td>\n",
       "      <td>0.451630</td>\n",
       "    </tr>\n",
       "  </tbody>\n",
       "</table>\n",
       "</div>"
      ],
      "text/plain": [
       "                                      Model type                      runtime  \\\n",
       "0                    _final_char_leve_emmbedings                      6.54034   \n",
       "1                                        6.54034  _final_char_leve_emmbedings   \n",
       "2                                           mean                            0   \n",
       "3                                         median                            0   \n",
       "4                    XGBoost - feature extracted                           60   \n",
       "5  GradientBoostingRegressor - feature extracted                            2   \n",
       "6               RandomForest - feature extracted                            5   \n",
       "\n",
       "   Train RMSE  Val-RMSE  Test-RMSE  Train MAE   Val-MAE  Test-MAE  \n",
       "0    0.523769  0.539189   0.534762   0.432266  0.432609  0.436270  \n",
       "1    0.523769  0.539189   0.534762   0.432266  0.432609  0.436270  \n",
       "2    0.531591  0.544169   0.537423   0.442231  0.439502  0.441831  \n",
       "3    0.583851  0.647295   0.608532   0.439055  0.495352  0.457978  \n",
       "4    0.505233  0.533758   0.534254   0.420006  0.428764  0.437846  \n",
       "5    0.527753  0.542829   0.536493   0.438080  0.437583  0.440069  \n",
       "6    0.280962  0.544745   0.556197   0.211891  0.436775  0.451630  "
      ]
     },
     "execution_count": 85,
     "metadata": {},
     "output_type": "execute_result"
    }
   ],
   "source": [
    "train_prediction = rfr_model.predict(train_features)\n",
    "valid_prediction = rfr_model.predict(valid_featurs)\n",
    "test_prediction = rfr_model.predict(test_features)\n",
    "update_result_table('RandomForest - feature extracted', \n",
    "                   round((training_end_time-training_start_time)/60), \n",
    "                   train_prediction, Y_train.values[train_inds],\n",
    "                   valid_prediction, Y_train.values[test_inds],\n",
    "                   test_prediction, y_test.values)\n",
    "results_table "
   ]
  },
  {
   "cell_type": "code",
   "execution_count": 86,
   "metadata": {},
   "outputs": [
    {
     "data": {
      "text/html": [
       "<div>\n",
       "<style scoped>\n",
       "    .dataframe tbody tr th:only-of-type {\n",
       "        vertical-align: middle;\n",
       "    }\n",
       "\n",
       "    .dataframe tbody tr th {\n",
       "        vertical-align: top;\n",
       "    }\n",
       "\n",
       "    .dataframe thead th {\n",
       "        text-align: right;\n",
       "    }\n",
       "</style>\n",
       "<table border=\"1\" class=\"dataframe\">\n",
       "  <thead>\n",
       "    <tr style=\"text-align: right;\">\n",
       "      <th></th>\n",
       "      <th>Model type</th>\n",
       "      <th>runtime</th>\n",
       "      <th>Train RMSE</th>\n",
       "      <th>Val-RMSE</th>\n",
       "      <th>Test-RMSE</th>\n",
       "      <th>Train MAE</th>\n",
       "      <th>Val-MAE</th>\n",
       "      <th>Test-MAE</th>\n",
       "    </tr>\n",
       "  </thead>\n",
       "  <tbody>\n",
       "    <tr>\n",
       "      <th>0</th>\n",
       "      <td>_final_char_leve_emmbedings</td>\n",
       "      <td>6.54034</td>\n",
       "      <td>0.523769</td>\n",
       "      <td>0.539189</td>\n",
       "      <td>0.534762</td>\n",
       "      <td>0.432266</td>\n",
       "      <td>0.432609</td>\n",
       "      <td>0.436270</td>\n",
       "    </tr>\n",
       "    <tr>\n",
       "      <th>2</th>\n",
       "      <td>mean</td>\n",
       "      <td>0</td>\n",
       "      <td>0.531591</td>\n",
       "      <td>0.544169</td>\n",
       "      <td>0.537423</td>\n",
       "      <td>0.442231</td>\n",
       "      <td>0.439502</td>\n",
       "      <td>0.441831</td>\n",
       "    </tr>\n",
       "    <tr>\n",
       "      <th>3</th>\n",
       "      <td>median</td>\n",
       "      <td>0</td>\n",
       "      <td>0.583851</td>\n",
       "      <td>0.647295</td>\n",
       "      <td>0.608532</td>\n",
       "      <td>0.439055</td>\n",
       "      <td>0.495352</td>\n",
       "      <td>0.457978</td>\n",
       "    </tr>\n",
       "    <tr>\n",
       "      <th>4</th>\n",
       "      <td>XGBoost - feature extracted</td>\n",
       "      <td>60</td>\n",
       "      <td>0.505233</td>\n",
       "      <td>0.533758</td>\n",
       "      <td>0.534254</td>\n",
       "      <td>0.420006</td>\n",
       "      <td>0.428764</td>\n",
       "      <td>0.437846</td>\n",
       "    </tr>\n",
       "    <tr>\n",
       "      <th>5</th>\n",
       "      <td>GradientBoostingRegressor - feature extracted</td>\n",
       "      <td>2</td>\n",
       "      <td>0.527753</td>\n",
       "      <td>0.542829</td>\n",
       "      <td>0.536493</td>\n",
       "      <td>0.438080</td>\n",
       "      <td>0.437583</td>\n",
       "      <td>0.440069</td>\n",
       "    </tr>\n",
       "    <tr>\n",
       "      <th>6</th>\n",
       "      <td>RandomForest - feature extracted</td>\n",
       "      <td>5</td>\n",
       "      <td>0.280962</td>\n",
       "      <td>0.544745</td>\n",
       "      <td>0.556197</td>\n",
       "      <td>0.211891</td>\n",
       "      <td>0.436775</td>\n",
       "      <td>0.451630</td>\n",
       "    </tr>\n",
       "  </tbody>\n",
       "</table>\n",
       "</div>"
      ],
      "text/plain": [
       "                                      Model type  runtime  Train RMSE  \\\n",
       "0                    _final_char_leve_emmbedings  6.54034    0.523769   \n",
       "2                                           mean        0    0.531591   \n",
       "3                                         median        0    0.583851   \n",
       "4                    XGBoost - feature extracted       60    0.505233   \n",
       "5  GradientBoostingRegressor - feature extracted        2    0.527753   \n",
       "6               RandomForest - feature extracted        5    0.280962   \n",
       "\n",
       "   Val-RMSE  Test-RMSE  Train MAE   Val-MAE  Test-MAE  \n",
       "0  0.539189   0.534762   0.432266  0.432609  0.436270  \n",
       "2  0.544169   0.537423   0.442231  0.439502  0.441831  \n",
       "3  0.647295   0.608532   0.439055  0.495352  0.457978  \n",
       "4  0.533758   0.534254   0.420006  0.428764  0.437846  \n",
       "5  0.542829   0.536493   0.438080  0.437583  0.440069  \n",
       "6  0.544745   0.556197   0.211891  0.436775  0.451630  "
      ]
     },
     "execution_count": 86,
     "metadata": {},
     "output_type": "execute_result"
    }
   ],
   "source": [
    "t = results_table.drop(index=1)\n",
    "t"
   ]
  },
  {
   "cell_type": "code",
   "execution_count": 95,
   "metadata": {},
   "outputs": [
    {
     "data": {
      "text/html": [
       "<div>\n",
       "<style scoped>\n",
       "    .dataframe tbody tr th:only-of-type {\n",
       "        vertical-align: middle;\n",
       "    }\n",
       "\n",
       "    .dataframe tbody tr th {\n",
       "        vertical-align: top;\n",
       "    }\n",
       "\n",
       "    .dataframe thead th {\n",
       "        text-align: right;\n",
       "    }\n",
       "</style>\n",
       "<table border=\"1\" class=\"dataframe\">\n",
       "  <thead>\n",
       "    <tr style=\"text-align: right;\">\n",
       "      <th></th>\n",
       "      <th>Model type</th>\n",
       "      <th>runtime</th>\n",
       "      <th>Train RMSE</th>\n",
       "      <th>Val-RMSE</th>\n",
       "      <th>Test-RMSE</th>\n",
       "      <th>Train MAE</th>\n",
       "      <th>Val-MAE</th>\n",
       "      <th>Test-MAE</th>\n",
       "    </tr>\n",
       "  </thead>\n",
       "  <tbody>\n",
       "    <tr>\n",
       "      <th>0</th>\n",
       "      <td>_final_char_leve_emmbedings</td>\n",
       "      <td>6.54034</td>\n",
       "      <td>0.523769</td>\n",
       "      <td>0.539189</td>\n",
       "      <td>0.534762</td>\n",
       "      <td>0.432266</td>\n",
       "      <td>0.432609</td>\n",
       "      <td>0.436270</td>\n",
       "    </tr>\n",
       "    <tr>\n",
       "      <th>1</th>\n",
       "      <td>6.54034</td>\n",
       "      <td>_final_char_leve_emmbedings</td>\n",
       "      <td>0.523769</td>\n",
       "      <td>0.539189</td>\n",
       "      <td>0.534762</td>\n",
       "      <td>0.432266</td>\n",
       "      <td>0.432609</td>\n",
       "      <td>0.436270</td>\n",
       "    </tr>\n",
       "    <tr>\n",
       "      <th>2</th>\n",
       "      <td>mean</td>\n",
       "      <td>0</td>\n",
       "      <td>0.531591</td>\n",
       "      <td>0.544169</td>\n",
       "      <td>0.537423</td>\n",
       "      <td>0.442231</td>\n",
       "      <td>0.439502</td>\n",
       "      <td>0.441831</td>\n",
       "    </tr>\n",
       "    <tr>\n",
       "      <th>3</th>\n",
       "      <td>median</td>\n",
       "      <td>0</td>\n",
       "      <td>0.583851</td>\n",
       "      <td>0.647295</td>\n",
       "      <td>0.608532</td>\n",
       "      <td>0.439055</td>\n",
       "      <td>0.495352</td>\n",
       "      <td>0.457978</td>\n",
       "    </tr>\n",
       "    <tr>\n",
       "      <th>4</th>\n",
       "      <td>XGBoost - feature extracted</td>\n",
       "      <td>60</td>\n",
       "      <td>0.505233</td>\n",
       "      <td>0.533758</td>\n",
       "      <td>0.534254</td>\n",
       "      <td>0.420006</td>\n",
       "      <td>0.428764</td>\n",
       "      <td>0.437846</td>\n",
       "    </tr>\n",
       "    <tr>\n",
       "      <th>5</th>\n",
       "      <td>GradientBoostingRegressor - feature extracted</td>\n",
       "      <td>2</td>\n",
       "      <td>0.527753</td>\n",
       "      <td>0.542829</td>\n",
       "      <td>0.536493</td>\n",
       "      <td>0.438080</td>\n",
       "      <td>0.437583</td>\n",
       "      <td>0.440069</td>\n",
       "    </tr>\n",
       "    <tr>\n",
       "      <th>6</th>\n",
       "      <td>RandomForest - feature extracted</td>\n",
       "      <td>5</td>\n",
       "      <td>0.280962</td>\n",
       "      <td>0.544745</td>\n",
       "      <td>0.556197</td>\n",
       "      <td>0.211891</td>\n",
       "      <td>0.436775</td>\n",
       "      <td>0.451630</td>\n",
       "    </tr>\n",
       "    <tr>\n",
       "      <th>7</th>\n",
       "      <td>_char_level_depper</td>\n",
       "      <td>4.40744</td>\n",
       "      <td>0.523109</td>\n",
       "      <td>0.538836</td>\n",
       "      <td>0.534139</td>\n",
       "      <td>0.431642</td>\n",
       "      <td>0.432261</td>\n",
       "      <td>0.435514</td>\n",
       "    </tr>\n",
       "  </tbody>\n",
       "</table>\n",
       "</div>"
      ],
      "text/plain": [
       "                                      Model type                      runtime  \\\n",
       "0                    _final_char_leve_emmbedings                      6.54034   \n",
       "1                                        6.54034  _final_char_leve_emmbedings   \n",
       "2                                           mean                            0   \n",
       "3                                         median                            0   \n",
       "4                    XGBoost - feature extracted                           60   \n",
       "5  GradientBoostingRegressor - feature extracted                            2   \n",
       "6               RandomForest - feature extracted                            5   \n",
       "7                             _char_level_depper                      4.40744   \n",
       "\n",
       "   Train RMSE  Val-RMSE  Test-RMSE  Train MAE   Val-MAE  Test-MAE  \n",
       "0    0.523769  0.539189   0.534762   0.432266  0.432609  0.436270  \n",
       "1    0.523769  0.539189   0.534762   0.432266  0.432609  0.436270  \n",
       "2    0.531591  0.544169   0.537423   0.442231  0.439502  0.441831  \n",
       "3    0.583851  0.647295   0.608532   0.439055  0.495352  0.457978  \n",
       "4    0.505233  0.533758   0.534254   0.420006  0.428764  0.437846  \n",
       "5    0.527753  0.542829   0.536493   0.438080  0.437583  0.440069  \n",
       "6    0.280962  0.544745   0.556197   0.211891  0.436775  0.451630  \n",
       "7    0.523109  0.538836   0.534139   0.431642  0.432261  0.435514  "
      ]
     },
     "execution_count": 95,
     "metadata": {},
     "output_type": "execute_result"
    }
   ],
   "source": [
    "results_table"
   ]
  },
  {
   "cell_type": "code",
   "execution_count": 97,
   "metadata": {},
   "outputs": [],
   "source": [
    "results_table.to_csv('./q1_res.csv',)"
   ]
  },
  {
   "cell_type": "code",
   "execution_count": 98,
   "metadata": {},
   "outputs": [
    {
     "data": {
      "text/html": [
       "<div>\n",
       "<style scoped>\n",
       "    .dataframe tbody tr th:only-of-type {\n",
       "        vertical-align: middle;\n",
       "    }\n",
       "\n",
       "    .dataframe tbody tr th {\n",
       "        vertical-align: top;\n",
       "    }\n",
       "\n",
       "    .dataframe thead th {\n",
       "        text-align: right;\n",
       "    }\n",
       "</style>\n",
       "<table border=\"1\" class=\"dataframe\">\n",
       "  <thead>\n",
       "    <tr style=\"text-align: right;\">\n",
       "      <th></th>\n",
       "      <th>Unnamed: 0</th>\n",
       "      <th>Model type</th>\n",
       "      <th>runtime</th>\n",
       "      <th>Train RMSE</th>\n",
       "      <th>Val-RMSE</th>\n",
       "      <th>Test-RMSE</th>\n",
       "      <th>Train MAE</th>\n",
       "      <th>Val-MAE</th>\n",
       "      <th>Test-MAE</th>\n",
       "    </tr>\n",
       "  </thead>\n",
       "  <tbody>\n",
       "    <tr>\n",
       "      <th>0</th>\n",
       "      <td>0</td>\n",
       "      <td>_final_char_leve_emmbedings</td>\n",
       "      <td>6.540339068571726</td>\n",
       "      <td>0.523769</td>\n",
       "      <td>0.539189</td>\n",
       "      <td>0.534762</td>\n",
       "      <td>0.432266</td>\n",
       "      <td>0.432609</td>\n",
       "      <td>0.436270</td>\n",
       "    </tr>\n",
       "    <tr>\n",
       "      <th>1</th>\n",
       "      <td>1</td>\n",
       "      <td>6.540339068571726</td>\n",
       "      <td>_final_char_leve_emmbedings</td>\n",
       "      <td>0.523769</td>\n",
       "      <td>0.539189</td>\n",
       "      <td>0.534762</td>\n",
       "      <td>0.432266</td>\n",
       "      <td>0.432609</td>\n",
       "      <td>0.436270</td>\n",
       "    </tr>\n",
       "    <tr>\n",
       "      <th>2</th>\n",
       "      <td>2</td>\n",
       "      <td>mean</td>\n",
       "      <td>0</td>\n",
       "      <td>0.531591</td>\n",
       "      <td>0.544169</td>\n",
       "      <td>0.537423</td>\n",
       "      <td>0.442231</td>\n",
       "      <td>0.439502</td>\n",
       "      <td>0.441831</td>\n",
       "    </tr>\n",
       "    <tr>\n",
       "      <th>3</th>\n",
       "      <td>3</td>\n",
       "      <td>median</td>\n",
       "      <td>0</td>\n",
       "      <td>0.583851</td>\n",
       "      <td>0.647295</td>\n",
       "      <td>0.608532</td>\n",
       "      <td>0.439055</td>\n",
       "      <td>0.495352</td>\n",
       "      <td>0.457978</td>\n",
       "    </tr>\n",
       "    <tr>\n",
       "      <th>4</th>\n",
       "      <td>4</td>\n",
       "      <td>XGBoost - feature extracted</td>\n",
       "      <td>60</td>\n",
       "      <td>0.505233</td>\n",
       "      <td>0.533758</td>\n",
       "      <td>0.534254</td>\n",
       "      <td>0.420006</td>\n",
       "      <td>0.428764</td>\n",
       "      <td>0.437846</td>\n",
       "    </tr>\n",
       "    <tr>\n",
       "      <th>5</th>\n",
       "      <td>5</td>\n",
       "      <td>GradientBoostingRegressor - feature extracted</td>\n",
       "      <td>2</td>\n",
       "      <td>0.527753</td>\n",
       "      <td>0.542829</td>\n",
       "      <td>0.536493</td>\n",
       "      <td>0.438080</td>\n",
       "      <td>0.437583</td>\n",
       "      <td>0.440069</td>\n",
       "    </tr>\n",
       "    <tr>\n",
       "      <th>6</th>\n",
       "      <td>6</td>\n",
       "      <td>RandomForest - feature extracted</td>\n",
       "      <td>5</td>\n",
       "      <td>0.280962</td>\n",
       "      <td>0.544745</td>\n",
       "      <td>0.556197</td>\n",
       "      <td>0.211891</td>\n",
       "      <td>0.436775</td>\n",
       "      <td>0.451630</td>\n",
       "    </tr>\n",
       "    <tr>\n",
       "      <th>7</th>\n",
       "      <td>7</td>\n",
       "      <td>_char_level_depper</td>\n",
       "      <td>4.407435746987661</td>\n",
       "      <td>0.523109</td>\n",
       "      <td>0.538836</td>\n",
       "      <td>0.534139</td>\n",
       "      <td>0.431642</td>\n",
       "      <td>0.432261</td>\n",
       "      <td>0.435514</td>\n",
       "    </tr>\n",
       "  </tbody>\n",
       "</table>\n",
       "</div>"
      ],
      "text/plain": [
       "   Unnamed: 0                                     Model type  \\\n",
       "0           0                    _final_char_leve_emmbedings   \n",
       "1           1                              6.540339068571726   \n",
       "2           2                                           mean   \n",
       "3           3                                         median   \n",
       "4           4                    XGBoost - feature extracted   \n",
       "5           5  GradientBoostingRegressor - feature extracted   \n",
       "6           6               RandomForest - feature extracted   \n",
       "7           7                             _char_level_depper   \n",
       "\n",
       "                       runtime  Train RMSE  Val-RMSE  Test-RMSE  Train MAE  \\\n",
       "0            6.540339068571726    0.523769  0.539189   0.534762   0.432266   \n",
       "1  _final_char_leve_emmbedings    0.523769  0.539189   0.534762   0.432266   \n",
       "2                            0    0.531591  0.544169   0.537423   0.442231   \n",
       "3                            0    0.583851  0.647295   0.608532   0.439055   \n",
       "4                           60    0.505233  0.533758   0.534254   0.420006   \n",
       "5                            2    0.527753  0.542829   0.536493   0.438080   \n",
       "6                            5    0.280962  0.544745   0.556197   0.211891   \n",
       "7            4.407435746987661    0.523109  0.538836   0.534139   0.431642   \n",
       "\n",
       "    Val-MAE  Test-MAE  \n",
       "0  0.432609  0.436270  \n",
       "1  0.432609  0.436270  \n",
       "2  0.439502  0.441831  \n",
       "3  0.495352  0.457978  \n",
       "4  0.428764  0.437846  \n",
       "5  0.437583  0.440069  \n",
       "6  0.436775  0.451630  \n",
       "7  0.432261  0.435514  "
      ]
     },
     "execution_count": 98,
     "metadata": {},
     "output_type": "execute_result"
    }
   ],
   "source": [
    "t = pd.read_csv('./q1_res.csv')\n",
    "t"
   ]
  },
  {
   "cell_type": "code",
   "execution_count": null,
   "metadata": {},
   "outputs": [],
   "source": []
  }
 ],
 "metadata": {
  "kernelspec": {
   "display_name": "Environment (conda_keras)",
   "language": "python",
   "name": "conda_keras"
  },
  "language_info": {
   "codemirror_mode": {
    "name": "ipython",
    "version": 3
   },
   "file_extension": ".py",
   "mimetype": "text/x-python",
   "name": "python",
   "nbconvert_exporter": "python",
   "pygments_lexer": "ipython3",
   "version": "3.6.7"
  }
 },
 "nbformat": 4,
 "nbformat_minor": 2
}
